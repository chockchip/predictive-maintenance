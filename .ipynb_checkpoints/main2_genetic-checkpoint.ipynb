{
 "cells": [
  {
   "cell_type": "code",
   "execution_count": 1,
   "id": "1d030863-2357-448d-8d6a-68034d51a2d3",
   "metadata": {},
   "outputs": [],
   "source": [
    "# Refer to path of package\n",
    "import sys\n",
    "sys.path.append('/Users/watcharapongwongrattanasirikul/Documents/Git/Jupyter/my_env/lib/python3.8/site-packages')"
   ]
  },
  {
   "cell_type": "code",
   "execution_count": 2,
   "id": "d2907a0e-95b3-41ff-a964-3d2e1019f1ff",
   "metadata": {},
   "outputs": [],
   "source": [
    "# Import Lib\n",
    "import pandas as pd\n",
    "import numpy as np\n",
    "from matplotlib import pyplot as plt\n",
    "import seaborn as sns\n",
    "from sklearn.ensemble import IsolationForest\n",
    "from sklearn.metrics import confusion_matrix, accuracy_score, roc_auc_score, classification_report\n",
    "import re\n",
    "from random import choices, randint, randrange, uniform"
   ]
  },
  {
   "cell_type": "code",
   "execution_count": 3,
   "id": "94bfe675-1b0d-4997-946d-d2b244beee9b",
   "metadata": {},
   "outputs": [],
   "source": [
    "from ml_helper import MlHelper\n",
    "from eda_helper import EdaHelper\n",
    "from sampling_helper import SamplingHelper\n",
    "from impute_helper import ImputeHelper\n",
    "from impute_helper import imputation_strategy\n",
    "from ml_helper import model_type\n",
    "from ml_helper import resampler_type\n",
    "from ml_helper import scaler_type"
   ]
  },
  {
   "cell_type": "code",
   "execution_count": 4,
   "id": "952b095c-197d-465b-b63d-dc9a6ead0093",
   "metadata": {},
   "outputs": [
    {
     "data": {
      "text/html": [
       "<div>\n",
       "<style scoped>\n",
       "    .dataframe tbody tr th:only-of-type {\n",
       "        vertical-align: middle;\n",
       "    }\n",
       "\n",
       "    .dataframe tbody tr th {\n",
       "        vertical-align: top;\n",
       "    }\n",
       "\n",
       "    .dataframe thead th {\n",
       "        text-align: right;\n",
       "    }\n",
       "</style>\n",
       "<table border=\"1\" class=\"dataframe\">\n",
       "  <thead>\n",
       "    <tr style=\"text-align: right;\">\n",
       "      <th></th>\n",
       "      <th>UDI</th>\n",
       "      <th>Product ID</th>\n",
       "      <th>Type</th>\n",
       "      <th>Air temperature [K]</th>\n",
       "      <th>Process temperature [K]</th>\n",
       "      <th>Rotational speed [rpm]</th>\n",
       "      <th>Torque [Nm]</th>\n",
       "      <th>Tool wear [min]</th>\n",
       "      <th>Machine failure</th>\n",
       "      <th>TWF</th>\n",
       "      <th>HDF</th>\n",
       "      <th>PWF</th>\n",
       "      <th>OSF</th>\n",
       "      <th>RNF</th>\n",
       "    </tr>\n",
       "  </thead>\n",
       "  <tbody>\n",
       "    <tr>\n",
       "      <th>0</th>\n",
       "      <td>1</td>\n",
       "      <td>M14860</td>\n",
       "      <td>M</td>\n",
       "      <td>298.1</td>\n",
       "      <td>308.6</td>\n",
       "      <td>1551</td>\n",
       "      <td>42.8</td>\n",
       "      <td>0</td>\n",
       "      <td>0</td>\n",
       "      <td>0</td>\n",
       "      <td>0</td>\n",
       "      <td>0</td>\n",
       "      <td>0</td>\n",
       "      <td>0</td>\n",
       "    </tr>\n",
       "    <tr>\n",
       "      <th>1</th>\n",
       "      <td>2</td>\n",
       "      <td>L47181</td>\n",
       "      <td>L</td>\n",
       "      <td>298.2</td>\n",
       "      <td>308.7</td>\n",
       "      <td>1408</td>\n",
       "      <td>46.3</td>\n",
       "      <td>3</td>\n",
       "      <td>0</td>\n",
       "      <td>0</td>\n",
       "      <td>0</td>\n",
       "      <td>0</td>\n",
       "      <td>0</td>\n",
       "      <td>0</td>\n",
       "    </tr>\n",
       "    <tr>\n",
       "      <th>2</th>\n",
       "      <td>3</td>\n",
       "      <td>L47182</td>\n",
       "      <td>L</td>\n",
       "      <td>298.1</td>\n",
       "      <td>308.5</td>\n",
       "      <td>1498</td>\n",
       "      <td>49.4</td>\n",
       "      <td>5</td>\n",
       "      <td>0</td>\n",
       "      <td>0</td>\n",
       "      <td>0</td>\n",
       "      <td>0</td>\n",
       "      <td>0</td>\n",
       "      <td>0</td>\n",
       "    </tr>\n",
       "    <tr>\n",
       "      <th>3</th>\n",
       "      <td>4</td>\n",
       "      <td>L47183</td>\n",
       "      <td>L</td>\n",
       "      <td>298.2</td>\n",
       "      <td>308.6</td>\n",
       "      <td>1433</td>\n",
       "      <td>39.5</td>\n",
       "      <td>7</td>\n",
       "      <td>0</td>\n",
       "      <td>0</td>\n",
       "      <td>0</td>\n",
       "      <td>0</td>\n",
       "      <td>0</td>\n",
       "      <td>0</td>\n",
       "    </tr>\n",
       "    <tr>\n",
       "      <th>4</th>\n",
       "      <td>5</td>\n",
       "      <td>L47184</td>\n",
       "      <td>L</td>\n",
       "      <td>298.2</td>\n",
       "      <td>308.7</td>\n",
       "      <td>1408</td>\n",
       "      <td>40.0</td>\n",
       "      <td>9</td>\n",
       "      <td>0</td>\n",
       "      <td>0</td>\n",
       "      <td>0</td>\n",
       "      <td>0</td>\n",
       "      <td>0</td>\n",
       "      <td>0</td>\n",
       "    </tr>\n",
       "  </tbody>\n",
       "</table>\n",
       "</div>"
      ],
      "text/plain": [
       "   UDI Product ID Type  Air temperature [K]  Process temperature [K]  \\\n",
       "0    1     M14860    M                298.1                    308.6   \n",
       "1    2     L47181    L                298.2                    308.7   \n",
       "2    3     L47182    L                298.1                    308.5   \n",
       "3    4     L47183    L                298.2                    308.6   \n",
       "4    5     L47184    L                298.2                    308.7   \n",
       "\n",
       "   Rotational speed [rpm]  Torque [Nm]  Tool wear [min]  Machine failure  TWF  \\\n",
       "0                    1551         42.8                0                0    0   \n",
       "1                    1408         46.3                3                0    0   \n",
       "2                    1498         49.4                5                0    0   \n",
       "3                    1433         39.5                7                0    0   \n",
       "4                    1408         40.0                9                0    0   \n",
       "\n",
       "   HDF  PWF  OSF  RNF  \n",
       "0    0    0    0    0  \n",
       "1    0    0    0    0  \n",
       "2    0    0    0    0  \n",
       "3    0    0    0    0  \n",
       "4    0    0    0    0  "
      ]
     },
     "execution_count": 4,
     "metadata": {},
     "output_type": "execute_result"
    }
   ],
   "source": [
    "file_path = '/Users/watcharapongwongrattanasirikul/Documents/Git/predictive-maintenance/train_timeseries.csv'\n",
    "\n",
    "df = pd.read_csv(file_path)\n",
    "df.head(5)"
   ]
  },
  {
   "cell_type": "code",
   "execution_count": 5,
   "id": "5652c399-2fd9-422f-91ca-e511f53f1cc5",
   "metadata": {},
   "outputs": [
    {
     "data": {
      "text/html": [
       "<div>\n",
       "<style scoped>\n",
       "    .dataframe tbody tr th:only-of-type {\n",
       "        vertical-align: middle;\n",
       "    }\n",
       "\n",
       "    .dataframe tbody tr th {\n",
       "        vertical-align: top;\n",
       "    }\n",
       "\n",
       "    .dataframe thead th {\n",
       "        text-align: right;\n",
       "    }\n",
       "</style>\n",
       "<table border=\"1\" class=\"dataframe\">\n",
       "  <thead>\n",
       "    <tr style=\"text-align: right;\">\n",
       "      <th></th>\n",
       "      <th>UDI</th>\n",
       "      <th>Product ID</th>\n",
       "      <th>Type</th>\n",
       "      <th>AirTemp</th>\n",
       "      <th>ProcessTemp</th>\n",
       "      <th>RotationalSpeed</th>\n",
       "      <th>Torque</th>\n",
       "      <th>ToolWear</th>\n",
       "      <th>MF</th>\n",
       "      <th>TWF</th>\n",
       "      <th>HDF</th>\n",
       "      <th>PWF</th>\n",
       "      <th>OSF</th>\n",
       "      <th>RNF</th>\n",
       "    </tr>\n",
       "  </thead>\n",
       "  <tbody>\n",
       "    <tr>\n",
       "      <th>0</th>\n",
       "      <td>1</td>\n",
       "      <td>M14860</td>\n",
       "      <td>M</td>\n",
       "      <td>298.1</td>\n",
       "      <td>308.6</td>\n",
       "      <td>1551</td>\n",
       "      <td>42.8</td>\n",
       "      <td>0</td>\n",
       "      <td>0</td>\n",
       "      <td>0</td>\n",
       "      <td>0</td>\n",
       "      <td>0</td>\n",
       "      <td>0</td>\n",
       "      <td>0</td>\n",
       "    </tr>\n",
       "    <tr>\n",
       "      <th>1</th>\n",
       "      <td>2</td>\n",
       "      <td>L47181</td>\n",
       "      <td>L</td>\n",
       "      <td>298.2</td>\n",
       "      <td>308.7</td>\n",
       "      <td>1408</td>\n",
       "      <td>46.3</td>\n",
       "      <td>3</td>\n",
       "      <td>0</td>\n",
       "      <td>0</td>\n",
       "      <td>0</td>\n",
       "      <td>0</td>\n",
       "      <td>0</td>\n",
       "      <td>0</td>\n",
       "    </tr>\n",
       "    <tr>\n",
       "      <th>2</th>\n",
       "      <td>3</td>\n",
       "      <td>L47182</td>\n",
       "      <td>L</td>\n",
       "      <td>298.1</td>\n",
       "      <td>308.5</td>\n",
       "      <td>1498</td>\n",
       "      <td>49.4</td>\n",
       "      <td>5</td>\n",
       "      <td>0</td>\n",
       "      <td>0</td>\n",
       "      <td>0</td>\n",
       "      <td>0</td>\n",
       "      <td>0</td>\n",
       "      <td>0</td>\n",
       "    </tr>\n",
       "    <tr>\n",
       "      <th>3</th>\n",
       "      <td>4</td>\n",
       "      <td>L47183</td>\n",
       "      <td>L</td>\n",
       "      <td>298.2</td>\n",
       "      <td>308.6</td>\n",
       "      <td>1433</td>\n",
       "      <td>39.5</td>\n",
       "      <td>7</td>\n",
       "      <td>0</td>\n",
       "      <td>0</td>\n",
       "      <td>0</td>\n",
       "      <td>0</td>\n",
       "      <td>0</td>\n",
       "      <td>0</td>\n",
       "    </tr>\n",
       "    <tr>\n",
       "      <th>4</th>\n",
       "      <td>5</td>\n",
       "      <td>L47184</td>\n",
       "      <td>L</td>\n",
       "      <td>298.2</td>\n",
       "      <td>308.7</td>\n",
       "      <td>1408</td>\n",
       "      <td>40.0</td>\n",
       "      <td>9</td>\n",
       "      <td>0</td>\n",
       "      <td>0</td>\n",
       "      <td>0</td>\n",
       "      <td>0</td>\n",
       "      <td>0</td>\n",
       "      <td>0</td>\n",
       "    </tr>\n",
       "  </tbody>\n",
       "</table>\n",
       "</div>"
      ],
      "text/plain": [
       "   UDI Product ID Type  AirTemp  ProcessTemp  RotationalSpeed  Torque  \\\n",
       "0    1     M14860    M    298.1        308.6             1551    42.8   \n",
       "1    2     L47181    L    298.2        308.7             1408    46.3   \n",
       "2    3     L47182    L    298.1        308.5             1498    49.4   \n",
       "3    4     L47183    L    298.2        308.6             1433    39.5   \n",
       "4    5     L47184    L    298.2        308.7             1408    40.0   \n",
       "\n",
       "   ToolWear  MF  TWF  HDF  PWF  OSF  RNF  \n",
       "0         0   0    0    0    0    0    0  \n",
       "1         3   0    0    0    0    0    0  \n",
       "2         5   0    0    0    0    0    0  \n",
       "3         7   0    0    0    0    0    0  \n",
       "4         9   0    0    0    0    0    0  "
      ]
     },
     "execution_count": 5,
     "metadata": {},
     "output_type": "execute_result"
    }
   ],
   "source": [
    "# Rename of columns\n",
    "df = df.rename(columns={\n",
    "    'Air temperature [K]':'AirTemp',\n",
    "    'Process temperature [K]':'ProcessTemp',\n",
    "    'Rotational speed [rpm]':'RotationalSpeed',\n",
    "    'Torque [Nm]':'Torque',\n",
    "    'Tool wear [min]': 'ToolWear',\n",
    "    'Machine failure':'MF'\n",
    "})\n",
    "df.head()"
   ]
  },
  {
   "cell_type": "markdown",
   "id": "a6280825-5cf0-4041-963d-ad05228f053a",
   "metadata": {},
   "source": [
    "### Feature Engineering"
   ]
  },
  {
   "cell_type": "code",
   "execution_count": 6,
   "id": "d63d7ef4-0c14-4350-a4bb-7433a123ce84",
   "metadata": {},
   "outputs": [],
   "source": [
    "def log_feature(val):\n",
    "    result = np.log(val)\n",
    "    \n",
    "    if result not in [np.inf, -np.inf, np.NaN]:\n",
    "        return result\n",
    "    else:\n",
    "        return 0"
   ]
  },
  {
   "cell_type": "code",
   "execution_count": 7,
   "id": "6762d673-1da6-4232-a9fe-896c13a9accc",
   "metadata": {},
   "outputs": [],
   "source": [
    "def devide_feature(val):\n",
    "    if val[1] == 0:\n",
    "        return 0\n",
    "    else:\n",
    "        return val[0]/val[1]"
   ]
  },
  {
   "cell_type": "code",
   "execution_count": 8,
   "id": "c027e5c4-5f52-4525-a40a-61a89cefc835",
   "metadata": {},
   "outputs": [],
   "source": [
    "# Add log feature\n",
    "df['AirTempLog'] = (df['AirTemp']).transform(log_feature)\n",
    "df['ProcessTempLog'] = (df['ProcessTemp']).transform(log_feature)\n",
    "df['RotationalSpeedLog'] = (df['RotationalSpeed']).transform(log_feature)\n",
    "df['TorqueLog'] = (df['Torque']).transform(log_feature)\n",
    "df['ToolWearLog'] = (df['ToolWear']).transform(log_feature)"
   ]
  },
  {
   "cell_type": "code",
   "execution_count": 9,
   "id": "0189299f-81b4-44ab-82c6-b45064cff460",
   "metadata": {},
   "outputs": [],
   "source": [
    "# Add devided feature\n",
    "\n",
    "df['AirTempProcessTempDevided'] = (df[['AirTemp', 'ProcessTemp']]).apply(devide_feature, axis=1)\n",
    "df['TorqueRotationalSpeedDevided'] = (df[['Torque', 'RotationalSpeed']]).apply(devide_feature, axis=1)"
   ]
  },
  {
   "cell_type": "code",
   "execution_count": 10,
   "id": "b2904c5e-6e86-47fb-ad85-f40b8572b51f",
   "metadata": {},
   "outputs": [],
   "source": [
    "# Add square feature\n",
    "\n",
    "df['AirTempSq'] = (df['AirTemp']) * (df['AirTemp'])\n",
    "df['ProcessTempSq'] = (df['ProcessTemp']) * (df['ProcessTemp'])\n",
    "df['RotationalSpeedSq'] = (df['RotationalSpeed']) * (df['RotationalSpeed'])\n",
    "df['TorqueSq'] = (df['Torque']) * (df['Torque'])\n",
    "df['ToolWearSq'] = (df['ToolWear']) * (df['ToolWear'])"
   ]
  },
  {
   "cell_type": "code",
   "execution_count": 11,
   "id": "0d9cd150-7896-4969-bc04-a9eba2f6a230",
   "metadata": {},
   "outputs": [],
   "source": [
    "# This function use to encode data point to be class label\n",
    "# a = data less than or equal percentile 25\n",
    "# b = data less than or equal percentile 50\n",
    "# c = data less than or equal percentile 75\n",
    "# d = data greater than percentile 75\n",
    "\n",
    "def encode_feature(df):\n",
    "    \n",
    "    mean = np.mean(df)\n",
    "    std = np.std(df)\n",
    "    \n",
    "    encoder_list = []\n",
    "    \n",
    "    for data_point in df:\n",
    "        \n",
    "        if data_point <= (mean - (3*std)):\n",
    "            encoder_list.append(1)\n",
    "            continue\n",
    "        \n",
    "        if data_point <= (mean - (2*std)):\n",
    "            encoder_list.append(2)\n",
    "            continue\n",
    "            \n",
    "        if data_point <= (mean - (1*std)):\n",
    "            encoder_list.append(3)\n",
    "            continue\n",
    "            \n",
    "        if data_point <= mean:\n",
    "            encoder_list.append(4)\n",
    "            continue\n",
    "            \n",
    "        if data_point <= (mean + (1*std)):\n",
    "            encoder_list.append(5)\n",
    "            continue\n",
    "            \n",
    "        if data_point <= (mean + (2*std)):\n",
    "            encoder_list.append(6)\n",
    "            continue       \n",
    "                        \n",
    "        encoder_list.append(7)\n",
    "\n",
    "    return encoder_list"
   ]
  },
  {
   "cell_type": "code",
   "execution_count": 12,
   "id": "0d6b3d16-fbbd-40d0-9fb3-4de75fd22bb0",
   "metadata": {},
   "outputs": [],
   "source": [
    "df['Airtemp_Class'] = encode_feature(df['AirTemp'])\n",
    "df['ProcessTemp_Class'] = encode_feature(df['ProcessTemp'])\n",
    "df['Rotational_Class'] = encode_feature(df['RotationalSpeed'])\n",
    "df['Torque_Class'] = encode_feature(df['Torque'])\n",
    "df['ToolWear_Class'] = encode_feature(df['ToolWear'])"
   ]
  },
  {
   "cell_type": "code",
   "execution_count": 13,
   "id": "9a2097df-e4ac-4e48-be91-6987ed5fc165",
   "metadata": {},
   "outputs": [
    {
     "data": {
      "text/html": [
       "<div>\n",
       "<style scoped>\n",
       "    .dataframe tbody tr th:only-of-type {\n",
       "        vertical-align: middle;\n",
       "    }\n",
       "\n",
       "    .dataframe tbody tr th {\n",
       "        vertical-align: top;\n",
       "    }\n",
       "\n",
       "    .dataframe thead th {\n",
       "        text-align: right;\n",
       "    }\n",
       "</style>\n",
       "<table border=\"1\" class=\"dataframe\">\n",
       "  <thead>\n",
       "    <tr style=\"text-align: right;\">\n",
       "      <th></th>\n",
       "      <th>UDI</th>\n",
       "      <th>Product ID</th>\n",
       "      <th>Type</th>\n",
       "      <th>AirTemp</th>\n",
       "      <th>ProcessTemp</th>\n",
       "      <th>RotationalSpeed</th>\n",
       "      <th>Torque</th>\n",
       "      <th>ToolWear</th>\n",
       "      <th>MF</th>\n",
       "      <th>TWF</th>\n",
       "      <th>...</th>\n",
       "      <th>AirTempSq</th>\n",
       "      <th>ProcessTempSq</th>\n",
       "      <th>RotationalSpeedSq</th>\n",
       "      <th>TorqueSq</th>\n",
       "      <th>ToolWearSq</th>\n",
       "      <th>Airtemp_Class</th>\n",
       "      <th>ProcessTemp_Class</th>\n",
       "      <th>Rotational_Class</th>\n",
       "      <th>Torque_Class</th>\n",
       "      <th>ToolWear_Class</th>\n",
       "    </tr>\n",
       "  </thead>\n",
       "  <tbody>\n",
       "    <tr>\n",
       "      <th>0</th>\n",
       "      <td>1</td>\n",
       "      <td>M14860</td>\n",
       "      <td>M</td>\n",
       "      <td>298.1</td>\n",
       "      <td>308.6</td>\n",
       "      <td>1551</td>\n",
       "      <td>42.8</td>\n",
       "      <td>0</td>\n",
       "      <td>0</td>\n",
       "      <td>0</td>\n",
       "      <td>...</td>\n",
       "      <td>88863.61</td>\n",
       "      <td>95233.96</td>\n",
       "      <td>2405601</td>\n",
       "      <td>1831.84</td>\n",
       "      <td>0</td>\n",
       "      <td>3</td>\n",
       "      <td>3</td>\n",
       "      <td>5</td>\n",
       "      <td>5</td>\n",
       "      <td>3</td>\n",
       "    </tr>\n",
       "    <tr>\n",
       "      <th>1</th>\n",
       "      <td>2</td>\n",
       "      <td>L47181</td>\n",
       "      <td>L</td>\n",
       "      <td>298.2</td>\n",
       "      <td>308.7</td>\n",
       "      <td>1408</td>\n",
       "      <td>46.3</td>\n",
       "      <td>3</td>\n",
       "      <td>0</td>\n",
       "      <td>0</td>\n",
       "      <td>...</td>\n",
       "      <td>88923.24</td>\n",
       "      <td>95295.69</td>\n",
       "      <td>1982464</td>\n",
       "      <td>2143.69</td>\n",
       "      <td>9</td>\n",
       "      <td>3</td>\n",
       "      <td>4</td>\n",
       "      <td>4</td>\n",
       "      <td>5</td>\n",
       "      <td>3</td>\n",
       "    </tr>\n",
       "  </tbody>\n",
       "</table>\n",
       "<p>2 rows × 31 columns</p>\n",
       "</div>"
      ],
      "text/plain": [
       "   UDI Product ID Type  AirTemp  ProcessTemp  RotationalSpeed  Torque  \\\n",
       "0    1     M14860    M    298.1        308.6             1551    42.8   \n",
       "1    2     L47181    L    298.2        308.7             1408    46.3   \n",
       "\n",
       "   ToolWear  MF  TWF  ...  AirTempSq  ProcessTempSq  RotationalSpeedSq  \\\n",
       "0         0   0    0  ...   88863.61       95233.96            2405601   \n",
       "1         3   0    0  ...   88923.24       95295.69            1982464   \n",
       "\n",
       "   TorqueSq  ToolWearSq  Airtemp_Class  ProcessTemp_Class  Rotational_Class  \\\n",
       "0   1831.84           0              3                  3                 5   \n",
       "1   2143.69           9              3                  4                 4   \n",
       "\n",
       "   Torque_Class  ToolWear_Class  \n",
       "0             5               3  \n",
       "1             5               3  \n",
       "\n",
       "[2 rows x 31 columns]"
      ]
     },
     "execution_count": 13,
     "metadata": {},
     "output_type": "execute_result"
    }
   ],
   "source": [
    "df.head(2)"
   ]
  },
  {
   "cell_type": "code",
   "execution_count": 14,
   "id": "8fca3135-cee4-435d-a238-6a5efc4966a1",
   "metadata": {},
   "outputs": [],
   "source": [
    "def plot_class_distribution(df, label):\n",
    "    c = ['Grey', 'Red']\n",
    "    df.groupby('MF').size().plot(kind=\"bar\", color=c)\n",
    "    plt.title('Class Distribution', fontsize=18)\n",
    "    plt.yticks(np.arange(0, 12000, 2000))\n",
    "    # plt.grid()\n",
    "\n",
    "    for index, value in enumerate(df.groupby(label).size()):\n",
    "        c_label = ''\n",
    "        if index == 0:\n",
    "            c_label = 'Black'\n",
    "        else:\n",
    "            c_label = 'Red'\n",
    "        plt.text(index - 0.1, value + 1000, str(value), color=c_label, fontsize=14)\n",
    "\n",
    "    sns.despine()"
   ]
  },
  {
   "cell_type": "code",
   "execution_count": 15,
   "id": "bcbffe66-511c-4a6e-81b5-8d302ac362e3",
   "metadata": {},
   "outputs": [
    {
     "data": {
      "image/png": "[encoded data removed]",
      "text/plain": [
       "<Figure size 432x288 with 1 Axes>"
      ]
     },
     "metadata": {
      "needs_background": "light"
     },
     "output_type": "display_data"
    }
   ],
   "source": [
    "plot_class_distribution(df, 'MF')"
   ]
  },
  {
   "cell_type": "markdown",
   "id": "2b32f716-07db-4331-a788-6488105b71d0",
   "metadata": {},
   "source": [
    "# Genetic Algorithms to find the prediction pattern"
   ]
  },
  {
   "cell_type": "markdown",
   "id": "a1959812-00b0-4f62-893e-52b16e51f251",
   "metadata": {},
   "source": [
    "## encoder function"
   ]
  },
  {
   "cell_type": "code",
   "execution_count": 18,
   "id": "f7a939f5-1526-4b8b-9e1c-83d89b987c0f",
   "metadata": {},
   "outputs": [],
   "source": [
    "# This function use to encode data point to be class label\n",
    "# a = data less than or equal percentile 25\n",
    "# b = data less than or equal percentile 50\n",
    "# c = data less than or equal percentile 75\n",
    "# d = data greater than percentile 75\n",
    "\n",
    "def encode_feature(df):\n",
    "    \n",
    "    mean = np.mean(df)\n",
    "    std = np.std(df)\n",
    "    \n",
    "    encoder_list = []\n",
    "    \n",
    "    for data_point in df:\n",
    "        \n",
    "        if data_point <= (mean - (3*std)):\n",
    "            encoder_list.append('a')\n",
    "            continue\n",
    "        \n",
    "        if data_point <= (mean - (2*std)):\n",
    "            encoder_list.append('b')\n",
    "            continue\n",
    "            \n",
    "        if data_point <= (mean - (1*std)):\n",
    "            encoder_list.append('c')\n",
    "            continue\n",
    "            \n",
    "        if data_point <= mean:\n",
    "            encoder_list.append('d')\n",
    "            continue\n",
    "            \n",
    "        if data_point <= (mean + (1*std)):\n",
    "            encoder_list.append('e')\n",
    "            continue\n",
    "            \n",
    "        if data_point <= (mean + (2*std)):\n",
    "            encoder_list.append('f')\n",
    "            continue       \n",
    "                        \n",
    "        encoder_list.append('g')\n",
    "\n",
    "    return encoder_list"
   ]
  },
  {
   "cell_type": "code",
   "execution_count": 19,
   "id": "62edcb61-acab-454c-b8f7-9e77a399945e",
   "metadata": {},
   "outputs": [
    {
     "data": {
      "text/plain": [
       "['e', 'e', 'e', 'd', 'e', 'e', 'e', 'e', 'c', 'c']"
      ]
     },
     "execution_count": 19,
     "metadata": {},
     "output_type": "execute_result"
    }
   ],
   "source": [
    "test_encoder = encode_feature(df_torque)\n",
    "test_encoder[:10]"
   ]
  },
  {
   "cell_type": "markdown",
   "id": "cc82ccb6-458d-4ffd-bda6-e140628d6dce",
   "metadata": {},
   "source": [
    "### Generate the random genome by specific length"
   ]
  },
  {
   "cell_type": "code",
   "execution_count": 20,
   "id": "fe1175c2-b169-4561-9925-4b29a928451b",
   "metadata": {},
   "outputs": [],
   "source": [
    "def generate_genome(length:int,num_group=1):\n",
    "    \n",
    "    \n",
    "    previous_gene = ''\n",
    "    or_logic = False\n",
    "    count_or = 0\n",
    "    genome_group = []\n",
    "    \n",
    "    for j in range(num_group):\n",
    "        \n",
    "        genome = []\n",
    "        for i in range(length):\n",
    "\n",
    "            # First character should not be symbol\n",
    "            if i == 0:\n",
    "                next_gene = choices(['a','b','c','d','e','f','g'], k=1)\n",
    "                genome = genome + next_gene\n",
    "                previous_gene = next_gene\n",
    "                continue\n",
    "\n",
    "            # Last character should not be symbol\n",
    "            if i == (length-1):\n",
    "                next_gene = choices(['a','b','c','d','e','f','g'], k=1)\n",
    "                genome = genome + next_gene\n",
    "                previous_gene = next_gene\n",
    "                continue\n",
    "\n",
    "            # If previous character is symbol then next character should not be symbol\n",
    "            if previous_gene[0] == '.*' or previous_gene[0] == '|':\n",
    "                next_gene = choices(['a','b','c','d','e','f','g'], k=1)\n",
    "                genome = genome + next_gene\n",
    "\n",
    "                if previous_gene[0] == '|':\n",
    "                    or_logic = True\n",
    "                    count_or = 2\n",
    "\n",
    "                previous_gene = next_gene\n",
    "                continue\n",
    "\n",
    "            if count_or > 0:\n",
    "                next_gene = choices(['a','b','c','d','e','f','g'], k=1)\n",
    "                genome = genome + next_gene\n",
    "                previous_gene = next_gene\n",
    "                count_or = count_or - 1\n",
    "                continue\n",
    "\n",
    "            next_gene = choices(['a','b','c','d','e','f','g','.*','|'], k=1)            \n",
    "            genome = genome + next_gene\n",
    "            previous_gene = next_gene\n",
    "        genome_group.append(genome) \n",
    "    \n",
    "    return genome_group"
   ]
  },
  {
   "cell_type": "code",
   "execution_count": 21,
   "id": "db49890d-b34e-429a-88b3-77e1056d1e5a",
   "metadata": {},
   "outputs": [
    {
     "data": {
      "text/plain": [
       "[['f', '.*', 'f', 'f', 'f'], ['c', 'c', 'd', 'd', 'f']]"
      ]
     },
     "execution_count": 21,
     "metadata": {},
     "output_type": "execute_result"
    }
   ],
   "source": [
    "test_genome = generate_genome(5,2)\n",
    "test_genome"
   ]
  },
  {
   "cell_type": "markdown",
   "id": "128bdbf8-6289-4cd4-a484-28c861e60564",
   "metadata": {},
   "source": [
    "### Generate the population"
   ]
  },
  {
   "cell_type": "code",
   "execution_count": 22,
   "id": "fc3a6bc1-24da-4d4f-887d-2d08338b0487",
   "metadata": {},
   "outputs": [],
   "source": [
    "def generate_population(size, genome_lenght, num_group=1):\n",
    "    return [generate_genome(genome_lenght, num_group) for _ in range(size)]"
   ]
  },
  {
   "cell_type": "code",
   "execution_count": 74,
   "id": "f6c546b4-fd2a-4ad9-960c-09435c9c9ec1",
   "metadata": {},
   "outputs": [
    {
     "data": {
      "text/plain": [
       "[[['e', 'd', 'f', 'b', 'g'], ['b', 'c', 'e', 'a', 'b']],\n",
       " [['c', 'c', 'e', 'b', 'b'], ['f', 'g', 'c', 'e', 'e']],\n",
       " [['b', 'a', 'e', 'd', 'd'], ['f', 'c', 'd', '|', 'a']]]"
      ]
     },
     "execution_count": 74,
     "metadata": {},
     "output_type": "execute_result"
    }
   ],
   "source": [
    "test_population = generate_population(3, 5, 2)\n",
    "test_population"
   ]
  },
  {
   "cell_type": "markdown",
   "id": "99f381e7-b58f-4b5c-ab74-38f427bbed1a",
   "metadata": {},
   "source": [
    "### Get expression"
   ]
  },
  {
   "cell_type": "code",
   "execution_count": 87,
   "id": "bf0664d2-3a65-430a-9783-f54d4389642c",
   "metadata": {},
   "outputs": [],
   "source": [
    "def get_expression(data, num_group):\n",
    "    \n",
    "    \n",
    "    or_flag = False\n",
    "    expression_group = []\n",
    "    \n",
    "    for j in range(num_group):\n",
    "        reg_result = \"\"\n",
    "        \n",
    "        for idx, i in enumerate(data[j]):\n",
    "\n",
    "            if i == '|' and reg_result == \"\":\n",
    "                raise Exception(f\"The symbol '|' can't be the first parameter: {data}\")\n",
    "\n",
    "            if i == '|' and (idx + 1) == len(data[j]):\n",
    "                raise Exception(f\"The symbol '|' can't be the last parameter: {data}\")\n",
    "\n",
    "            if i in ('a', 'b', 'c', 'd','e','f','g','.*') and or_flag == False:\n",
    "                reg_result = reg_result + i\n",
    "                buf = i\n",
    "                continue\n",
    "\n",
    "            if i in ('a', 'b', 'c', 'd','e','f','g','.*') and or_flag == True:\n",
    "                reg_result = reg_result + f\"{i}]\"\n",
    "                or_flag = False\n",
    "                continue\n",
    "\n",
    "            if or_flag == True and (i == '|' or i == '.*'):\n",
    "                reg_result = reg_result + 'd'\n",
    "                continue\n",
    "\n",
    "            if i == '|':\n",
    "                reg_result = reg_result[0:(len(reg_result)- len(buf))]\n",
    "                reg_result = reg_result + f\"[{buf}|\"\n",
    "                or_flag = True\n",
    "                continue\n",
    "                \n",
    "        expression_group.append('.*'+reg_result+\".*\")\n",
    " \n",
    "    return expression_group"
   ]
  },
  {
   "cell_type": "code",
   "execution_count": 85,
   "id": "9024df0a-ab4c-432d-ab90-2baa572c1fd0",
   "metadata": {},
   "outputs": [
    {
     "data": {
      "text/plain": [
       "[['f', '.*', 'f', 'f', 'f'], ['c', 'c', 'd', 'd', 'f']]"
      ]
     },
     "execution_count": 85,
     "metadata": {},
     "output_type": "execute_result"
    }
   ],
   "source": [
    "test_genome"
   ]
  },
  {
   "cell_type": "code",
   "execution_count": 86,
   "id": "a7cdd5a6-2022-49b8-8bf5-ec978ccb685a",
   "metadata": {},
   "outputs": [
    {
     "name": "stdout",
     "output_type": "stream",
     "text": [
      "[['f', '.*', 'f', 'f', 'f'], ['c', 'c', 'd', 'd', 'f']]\n",
      "['.*f.*fff.*', '.*ccddf.*']\n"
     ]
    }
   ],
   "source": [
    "test_expression = get_expression(test_genome, 2)\n",
    "\n",
    "print(test_genome)\n",
    "print(test_expression)"
   ]
  },
  {
   "cell_type": "markdown",
   "id": "9e876b90-13d5-4c38-856f-5b377c0ed264",
   "metadata": {},
   "source": [
    "### Get the pattern"
   ]
  },
  {
   "cell_type": "code",
   "execution_count": 36,
   "id": "ee6656bd-f41b-4265-9e63-49649b8396c1",
   "metadata": {},
   "outputs": [],
   "source": [
    "# Check where to use it.\n",
    "\n",
    "def find_pattern(encoder_result, df_state, window_size=20, num_group=2):\n",
    "    \n",
    "    # variable setting\n",
    "    start = 0\n",
    "    end = window_size\n",
    "    \n",
    "    number_round = int(len(encoder_result)/window_size)\n",
    "\n",
    "    pattern_list = []\n",
    "    \n",
    "    for i in range(0, number_round):\n",
    "        # Find the next period will have the fail case or not\n",
    "        fail_next_period = list(df_state[end:end+window_size])\n",
    "        is_fail_next_period = sum(fail_next_period)>0\n",
    "        \n",
    "        if is_fail_next_period == True:\n",
    "            current_pattern = ''.join(encoder_result[start:end])\n",
    "            pattern_list.append(current_pattern)\n",
    "            \n",
    "        start += window_size\n",
    "        end += window_size\n",
    "\n",
    "    return pattern_list\n",
    "    "
   ]
  },
  {
   "cell_type": "code",
   "execution_count": 27,
   "id": "65334d4e-cc47-4be9-804d-a3b7f997d769",
   "metadata": {},
   "outputs": [],
   "source": [
    "df_torque = df['Torque']\n",
    "encode_torque = encode_feature(df_torque)"
   ]
  },
  {
   "cell_type": "code",
   "execution_count": 28,
   "id": "bdcfddc5-2a47-4236-91dc-a90706288c57",
   "metadata": {},
   "outputs": [],
   "source": [
    "df_PWF = df['PWF']"
   ]
  },
  {
   "cell_type": "code",
   "execution_count": 29,
   "id": "9a4c0bb9-4bc1-4974-866a-d9d7362c6a7a",
   "metadata": {},
   "outputs": [
    {
     "ename": "NameError",
     "evalue": "name 'find_pattern' is not defined",
     "output_type": "error",
     "traceback": [
      "\u001b[0;31m---------------------------------------------------------------------------\u001b[0m",
      "\u001b[0;31mNameError\u001b[0m                                 Traceback (most recent call last)",
      "\u001b[0;32m<ipython-input-29-205a49df8482>\u001b[0m in \u001b[0;36m<module>\u001b[0;34m\u001b[0m\n\u001b[0;32m----> 1\u001b[0;31m \u001b[0mexpected_pattern\u001b[0m \u001b[0;34m=\u001b[0m \u001b[0mfind_pattern\u001b[0m\u001b[0;34m(\u001b[0m\u001b[0mencode_torque\u001b[0m\u001b[0;34m,\u001b[0m \u001b[0mdf_PWF\u001b[0m\u001b[0;34m)\u001b[0m\u001b[0;34m\u001b[0m\u001b[0;34m\u001b[0m\u001b[0m\n\u001b[0m",
      "\u001b[0;31mNameError\u001b[0m: name 'find_pattern' is not defined"
     ]
    }
   ],
   "source": [
    "expected_pattern = find_pattern(encode_torque, df_PWF)"
   ]
  },
  {
   "cell_type": "code",
   "execution_count": 31,
   "id": "807220b2-f8bb-4980-b132-e5c7889ed64b",
   "metadata": {},
   "outputs": [
    {
     "name": "stdout",
     "output_type": "stream",
     "text": [
      "a b c d e f\n"
     ]
    },
    {
     "ename": "NameError",
     "evalue": "name 'expected_pattern' is not defined",
     "output_type": "error",
     "traceback": [
      "\u001b[0;31m---------------------------------------------------------------------------\u001b[0m",
      "\u001b[0;31mNameError\u001b[0m                                 Traceback (most recent call last)",
      "\u001b[0;32m<ipython-input-31-fd0baa8f4156>\u001b[0m in \u001b[0;36m<module>\u001b[0;34m\u001b[0m\n\u001b[1;32m      1\u001b[0m \u001b[0mprint\u001b[0m\u001b[0;34m(\u001b[0m\u001b[0;34m'a b c d e f'\u001b[0m\u001b[0;34m)\u001b[0m\u001b[0;34m\u001b[0m\u001b[0;34m\u001b[0m\u001b[0m\n\u001b[0;32m----> 2\u001b[0;31m \u001b[0;32mfor\u001b[0m \u001b[0mi\u001b[0m \u001b[0;32min\u001b[0m \u001b[0mexpected_pattern\u001b[0m\u001b[0;34m:\u001b[0m\u001b[0;34m\u001b[0m\u001b[0;34m\u001b[0m\u001b[0m\n\u001b[0m\u001b[1;32m      3\u001b[0m     \u001b[0mprint\u001b[0m\u001b[0;34m(\u001b[0m\u001b[0mi\u001b[0m\u001b[0;34m.\u001b[0m\u001b[0mcount\u001b[0m\u001b[0;34m(\u001b[0m\u001b[0;34m'a'\u001b[0m\u001b[0;34m)\u001b[0m \u001b[0;34m+\u001b[0m \u001b[0mi\u001b[0m\u001b[0;34m.\u001b[0m\u001b[0mcount\u001b[0m\u001b[0;34m(\u001b[0m\u001b[0;34m'b'\u001b[0m\u001b[0;34m)\u001b[0m \u001b[0;34m+\u001b[0m \u001b[0mi\u001b[0m\u001b[0;34m.\u001b[0m\u001b[0mcount\u001b[0m\u001b[0;34m(\u001b[0m\u001b[0;34m'c'\u001b[0m\u001b[0;34m)\u001b[0m\u001b[0;34m,\u001b[0m \u001b[0mi\u001b[0m\u001b[0;34m.\u001b[0m\u001b[0mcount\u001b[0m\u001b[0;34m(\u001b[0m\u001b[0;34m'e'\u001b[0m\u001b[0;34m)\u001b[0m \u001b[0;34m+\u001b[0m \u001b[0mi\u001b[0m\u001b[0;34m.\u001b[0m\u001b[0mcount\u001b[0m\u001b[0;34m(\u001b[0m\u001b[0;34m'f'\u001b[0m\u001b[0;34m)\u001b[0m\u001b[0;34m)\u001b[0m\u001b[0;34m\u001b[0m\u001b[0;34m\u001b[0m\u001b[0m\n",
      "\u001b[0;31mNameError\u001b[0m: name 'expected_pattern' is not defined"
     ]
    }
   ],
   "source": [
    "print('a b c d e f')\n",
    "for i in expected_pattern:\n",
    "    print(i.count('a') + i.count('b') + i.count('c'), i.count('e') + i.count('f'))"
   ]
  },
  {
   "cell_type": "code",
   "execution_count": 94,
   "id": "b30aab07-8825-4277-87d1-049901855ab7",
   "metadata": {},
   "outputs": [],
   "source": [
    "def test_pattern(encoder_result, df_state, window_size=20,population_size=10, genome_length=10, num_group=1, num_round=100):\n",
    "    \n",
    "    # --------------------------------------- Initial Window --------------------------------------- #\n",
    "    start = 0\n",
    "    end = window_size\n",
    "    number_round = int(len(encoder_result)/window_size)\n",
    "    \n",
    "    # --------------------------------------- Prepare Variable --------------------------------------- #\n",
    "    \n",
    "    pattern_list = []\n",
    "    \n",
    "    TP = 0\n",
    "    FP = 0\n",
    "    TN = 0\n",
    "    FN = 0\n",
    "    \n",
    "    \n",
    "    # Generate population\n",
    "    population = generate_population(size=population_size, genome_lenght=genome_length, num_group=num_group)\n",
    "\n",
    "\n",
    "    # Get regular_expression from genome\n",
    "    reg_expression = []\n",
    "    \n",
    "    for genome in population:\n",
    "        reg_expression.append(get_expression(genome, num_group))\n",
    "        \n",
    "    \n",
    "    for i in range(0, number_round):\n",
    "        \n",
    "        \n",
    "        # The feauter pattern\n",
    "        current_pattern = ''.join(encoder_result[start:end])\n",
    "        \n",
    "        current_prediction = []\n",
    "        \n",
    "        if num_group == 1:\n",
    "            for reg_exp in reg_expression:\n",
    "                print(f'current regular expression: {reg_exp}')\n",
    "                matched = re.search(reg_exp, current_pattern)\n",
    "\n",
    "                if matched is not None:\n",
    "                    current_prediction.append(True)\n",
    "                else:\n",
    "                    current_prediction.append(False)\n",
    "        else:\n",
    "            for group_exp in reg_expression:\n",
    "                \n",
    "                \n",
    "        print(current_prediction)\n",
    "            \n",
    "            \n",
    "        predict_fail = current_prediction.sum() > 0\n",
    "        \n",
    "        # Find the next period will have the fail case or not\n",
    "        fail_next_period = list(df_state[end:end+window_size])\n",
    "        is_fail_next_period = sum(fail_next_period)>0\n",
    "        \n",
    "        if is_fail_next_period == True:\n",
    "            current_pattern = ''.join(encoder_result[start:end])\n",
    "            pattern_list.append(current_pattern)\n",
    "            \n",
    "        # Calculate Fitness Score\n",
    "        if  predict_fail == True and is_fail_next_period == True:\n",
    "            TP += 1\n",
    "            \n",
    "        if predict_fail == True and is_fail_next_period == False:\n",
    "            FP += 1\n",
    "            \n",
    "        if predict_fail == False and is_fail_next_period == False:\n",
    "            TN += 1\n",
    "            \n",
    "        if predict_fail == False and is_fail_next_period == True:\n",
    "            FN += 1\n",
    "            \n",
    "        start += window_size\n",
    "        end += window_size\n",
    "\n",
    "    print(f'TP:{TP}, FP:{FP}, TN:{TN}, FN:{FN}')\n",
    "    \n",
    "    return True"
   ]
  },
  {
   "cell_type": "code",
   "execution_count": 95,
   "id": "53904301-319d-436b-b9f4-a4907b89e05d",
   "metadata": {},
   "outputs": [
    {
     "name": "stdout",
     "output_type": "stream",
     "text": [
      "current regular expression: ['.*g[b|d]e.*', '.*dbcff.*']\n"
     ]
    },
    {
     "ename": "TypeError",
     "evalue": "unhashable type: 'list'",
     "output_type": "error",
     "traceback": [
      "\u001b[0;31m---------------------------------------------------------------------------\u001b[0m",
      "\u001b[0;31mTypeError\u001b[0m                                 Traceback (most recent call last)",
      "\u001b[0;32m<ipython-input-95-597203f8a46a>\u001b[0m in \u001b[0;36m<module>\u001b[0;34m\u001b[0m\n\u001b[0;32m----> 1\u001b[0;31m test_pattern(\n\u001b[0m\u001b[1;32m      2\u001b[0m     \u001b[0mencoder_result\u001b[0m\u001b[0;34m=\u001b[0m\u001b[0mencode_torque\u001b[0m\u001b[0;34m,\u001b[0m\u001b[0;34m\u001b[0m\u001b[0;34m\u001b[0m\u001b[0m\n\u001b[1;32m      3\u001b[0m     \u001b[0mdf_state\u001b[0m\u001b[0;34m=\u001b[0m\u001b[0mdf_PWF\u001b[0m\u001b[0;34m,\u001b[0m\u001b[0;34m\u001b[0m\u001b[0;34m\u001b[0m\u001b[0m\n\u001b[1;32m      4\u001b[0m     \u001b[0mwindow_size\u001b[0m\u001b[0;34m=\u001b[0m\u001b[0;36m20\u001b[0m\u001b[0;34m,\u001b[0m\u001b[0;34m\u001b[0m\u001b[0;34m\u001b[0m\u001b[0m\n\u001b[1;32m      5\u001b[0m     \u001b[0mpopulation_size\u001b[0m\u001b[0;34m=\u001b[0m\u001b[0;36m10\u001b[0m\u001b[0;34m,\u001b[0m\u001b[0;34m\u001b[0m\u001b[0;34m\u001b[0m\u001b[0m\n",
      "\u001b[0;32m<ipython-input-94-a9f60712fa1f>\u001b[0m in \u001b[0;36mtest_pattern\u001b[0;34m(encoder_result, df_state, window_size, population_size, genome_length, num_group, num_round)\u001b[0m\n\u001b[1;32m     37\u001b[0m         \u001b[0;32mfor\u001b[0m \u001b[0mreg_exp\u001b[0m \u001b[0;32min\u001b[0m \u001b[0mreg_expression\u001b[0m\u001b[0;34m:\u001b[0m\u001b[0;34m\u001b[0m\u001b[0;34m\u001b[0m\u001b[0m\n\u001b[1;32m     38\u001b[0m             \u001b[0mprint\u001b[0m\u001b[0;34m(\u001b[0m\u001b[0;34mf'current regular expression: {reg_exp}'\u001b[0m\u001b[0;34m)\u001b[0m\u001b[0;34m\u001b[0m\u001b[0;34m\u001b[0m\u001b[0m\n\u001b[0;32m---> 39\u001b[0;31m             \u001b[0mmatched\u001b[0m \u001b[0;34m=\u001b[0m \u001b[0mre\u001b[0m\u001b[0;34m.\u001b[0m\u001b[0msearch\u001b[0m\u001b[0;34m(\u001b[0m\u001b[0mreg_exp\u001b[0m\u001b[0;34m,\u001b[0m \u001b[0mcurrent_pattern\u001b[0m\u001b[0;34m)\u001b[0m\u001b[0;34m\u001b[0m\u001b[0;34m\u001b[0m\u001b[0m\n\u001b[0m\u001b[1;32m     40\u001b[0m \u001b[0;34m\u001b[0m\u001b[0m\n\u001b[1;32m     41\u001b[0m             \u001b[0;32mif\u001b[0m \u001b[0mmatched\u001b[0m \u001b[0;32mis\u001b[0m \u001b[0;32mnot\u001b[0m \u001b[0;32mNone\u001b[0m\u001b[0;34m:\u001b[0m\u001b[0;34m\u001b[0m\u001b[0;34m\u001b[0m\u001b[0m\n",
      "\u001b[0;32m~/opt/anaconda3/lib/python3.8/re.py\u001b[0m in \u001b[0;36msearch\u001b[0;34m(pattern, string, flags)\u001b[0m\n\u001b[1;32m    199\u001b[0m     \"\"\"Scan through string looking for a match to the pattern, returning\n\u001b[1;32m    200\u001b[0m     a Match object, or None if no match was found.\"\"\"\n\u001b[0;32m--> 201\u001b[0;31m     \u001b[0;32mreturn\u001b[0m \u001b[0m_compile\u001b[0m\u001b[0;34m(\u001b[0m\u001b[0mpattern\u001b[0m\u001b[0;34m,\u001b[0m \u001b[0mflags\u001b[0m\u001b[0;34m)\u001b[0m\u001b[0;34m.\u001b[0m\u001b[0msearch\u001b[0m\u001b[0;34m(\u001b[0m\u001b[0mstring\u001b[0m\u001b[0;34m)\u001b[0m\u001b[0;34m\u001b[0m\u001b[0;34m\u001b[0m\u001b[0m\n\u001b[0m\u001b[1;32m    202\u001b[0m \u001b[0;34m\u001b[0m\u001b[0m\n\u001b[1;32m    203\u001b[0m \u001b[0;32mdef\u001b[0m \u001b[0msub\u001b[0m\u001b[0;34m(\u001b[0m\u001b[0mpattern\u001b[0m\u001b[0;34m,\u001b[0m \u001b[0mrepl\u001b[0m\u001b[0;34m,\u001b[0m \u001b[0mstring\u001b[0m\u001b[0;34m,\u001b[0m \u001b[0mcount\u001b[0m\u001b[0;34m=\u001b[0m\u001b[0;36m0\u001b[0m\u001b[0;34m,\u001b[0m \u001b[0mflags\u001b[0m\u001b[0;34m=\u001b[0m\u001b[0;36m0\u001b[0m\u001b[0;34m)\u001b[0m\u001b[0;34m:\u001b[0m\u001b[0;34m\u001b[0m\u001b[0;34m\u001b[0m\u001b[0m\n",
      "\u001b[0;32m~/opt/anaconda3/lib/python3.8/re.py\u001b[0m in \u001b[0;36m_compile\u001b[0;34m(pattern, flags)\u001b[0m\n\u001b[1;32m    292\u001b[0m         \u001b[0mflags\u001b[0m \u001b[0;34m=\u001b[0m \u001b[0mflags\u001b[0m\u001b[0;34m.\u001b[0m\u001b[0mvalue\u001b[0m\u001b[0;34m\u001b[0m\u001b[0;34m\u001b[0m\u001b[0m\n\u001b[1;32m    293\u001b[0m     \u001b[0;32mtry\u001b[0m\u001b[0;34m:\u001b[0m\u001b[0;34m\u001b[0m\u001b[0;34m\u001b[0m\u001b[0m\n\u001b[0;32m--> 294\u001b[0;31m         \u001b[0;32mreturn\u001b[0m \u001b[0m_cache\u001b[0m\u001b[0;34m[\u001b[0m\u001b[0mtype\u001b[0m\u001b[0;34m(\u001b[0m\u001b[0mpattern\u001b[0m\u001b[0;34m)\u001b[0m\u001b[0;34m,\u001b[0m \u001b[0mpattern\u001b[0m\u001b[0;34m,\u001b[0m \u001b[0mflags\u001b[0m\u001b[0;34m]\u001b[0m\u001b[0;34m\u001b[0m\u001b[0;34m\u001b[0m\u001b[0m\n\u001b[0m\u001b[1;32m    295\u001b[0m     \u001b[0;32mexcept\u001b[0m \u001b[0mKeyError\u001b[0m\u001b[0;34m:\u001b[0m\u001b[0;34m\u001b[0m\u001b[0;34m\u001b[0m\u001b[0m\n\u001b[1;32m    296\u001b[0m         \u001b[0;32mpass\u001b[0m\u001b[0;34m\u001b[0m\u001b[0;34m\u001b[0m\u001b[0m\n",
      "\u001b[0;31mTypeError\u001b[0m: unhashable type: 'list'"
     ]
    }
   ],
   "source": [
    "test_pattern(\n",
    "    encoder_result=encode_torque,\n",
    "    df_state=df_PWF,\n",
    "    window_size=20,\n",
    "    population_size=10,\n",
    "    genome_length=5,\n",
    "    num_group=2,\n",
    "    num_round=1\n",
    ")"
   ]
  },
  {
   "cell_type": "markdown",
   "id": "6fb3bad2-1667-4c2d-88e5-472240f822d4",
   "metadata": {},
   "source": [
    "### Calculate the fitness score"
   ]
  },
  {
   "cell_type": "code",
   "execution_count": null,
   "id": "b13ed02c-1d4a-40c4-af07-f0d4e1be89ba",
   "metadata": {},
   "outputs": [],
   "source": [
    "def fitness(genome, encoder_result, df_state, window_size=20, is_print_counting = False):\n",
    "    \n",
    "    # variable setting\n",
    "    fitness_score = 0\n",
    "    start = 0\n",
    "    end = window_size\n",
    "    number_round = int(len(encoder_result)/window_size)-1\n",
    "    has_match_pattern = False\n",
    "    \n",
    "    TP = 0\n",
    "    FP = 0\n",
    "    TN = 0\n",
    "    FN = 0\n",
    "    \n",
    "    # Get reg function from genome\n",
    "    reg_expression = get_expression(genome)\n",
    "    use_reg_expression = '.*' + reg_expression + '.*'\n",
    "    \n",
    "    # Counting\n",
    "    count_predict_true = 0\n",
    "    count_predict_false = 0\n",
    "    count_not_match = 0\n",
    "    \n",
    "    predict_list = []\n",
    "    \n",
    "    # Iterate over the data by specific period\n",
    "    for i in range(0, number_round):\n",
    "        \n",
    "        # Predict the next period by pattern of the current period\n",
    "        current_pattern = ''.join(encoder_result[start:end])\n",
    "        matched = re.search(use_reg_expression, current_pattern)\n",
    "        \n",
    "        #print(f'pattern {current_pattern} with reg {reg_expression} is match {matched}')\n",
    "        \n",
    "        if matched is not None:\n",
    "            predict_fail = True\n",
    "            \n",
    "            if has_match_pattern == False:\n",
    "                has_match_pattern = True\n",
    "        else:\n",
    "            predict_fail = False\n",
    "        \n",
    "        # Find the next period will have the fail case or not\n",
    "        fail_next_period = list(df_state[end:end+window_size])\n",
    "        is_fail_next_period = sum(fail_next_period)>0\n",
    "    \n",
    "        # Calculate Fitness Score\n",
    "        if  predict_fail == True and is_fail_next_period == True:\n",
    "            TP += 1\n",
    "            \n",
    "        if predict_fail == True and is_fail_next_period == False:\n",
    "            FP += 1\n",
    "            \n",
    "        if predict_fail == False and is_fail_next_period == False:\n",
    "            TN += 1\n",
    "            \n",
    "        if predict_fail == False and is_fail_next_period == True:\n",
    "            FN += 1\n",
    "            \n",
    "            \n",
    "\n",
    "        start += window_size\n",
    "        end += window_size\n",
    "        \n",
    "    if (TP+FN) == 0:\n",
    "        recall = 0\n",
    "    else:\n",
    "        recall = TP/(TP + FN)\n",
    "    \n",
    "    if (TP+FP) == 0:\n",
    "        precision = 0\n",
    "    else:\n",
    "        precision = TP/(TP+FP)\n",
    "    \n",
    "    if (precision+recall) == 0:\n",
    "        fitness_score = 0\n",
    "    else:\n",
    "        fitness_score = 2 * ((precision * recall)/(precision+recall))\n",
    "    \n",
    "    if is_print_counting == True:\n",
    "        print(f'Count True: {count_predict_true}, False: {count_predict_false}, Not match: {count_not_match}')\n",
    "    \n",
    "    return(fitness_score)"
   ]
  },
  {
   "cell_type": "code",
   "execution_count": null,
   "id": "27a710dc-1db8-4cf0-b46a-b1c99b9dea79",
   "metadata": {},
   "outputs": [],
   "source": [
    "df_PWF = df['PWF']\n",
    "df_torque = df['Torque']\n",
    "encode_torque = encode_feature(df_torque)"
   ]
  },
  {
   "cell_type": "code",
   "execution_count": null,
   "id": "4ecb0a01-617d-4a21-a242-b7afb445d3dc",
   "metadata": {},
   "outputs": [],
   "source": [
    "test_genome = generate_genome(5)\n",
    "\n",
    "score = fitness(test_genome, encode_torque, df_PWF, 40)\n",
    "print(score)"
   ]
  },
  {
   "cell_type": "markdown",
   "id": "9bf978e5-5080-46f7-bcef-c4d8fa94a618",
   "metadata": {},
   "source": [
    "### Selection Pair"
   ]
  },
  {
   "cell_type": "code",
   "execution_count": null,
   "id": "51de8972-0c69-4049-91c8-aa75f30772b1",
   "metadata": {},
   "outputs": [],
   "source": [
    "def selection_pair(population, weights, number=10):\n",
    "    return choices(\n",
    "        population=population,\n",
    "        weights= weights,\n",
    "        k=number\n",
    "    )"
   ]
  },
  {
   "cell_type": "code",
   "execution_count": null,
   "id": "55485b7c-12c5-481f-85b5-04d4e0e1862f",
   "metadata": {},
   "outputs": [],
   "source": [
    "weights = [1, 0, 0]\n",
    "selected_genome = selection_pair(test_population, weights)\n",
    "selected_genome"
   ]
  },
  {
   "cell_type": "markdown",
   "id": "5f68b089-afa1-47fc-8e5d-de7541bfe72c",
   "metadata": {},
   "source": [
    "### Cross Over"
   ]
  },
  {
   "cell_type": "code",
   "execution_count": null,
   "id": "010c6d8e-9277-4118-bc21-764526c8a54a",
   "metadata": {},
   "outputs": [],
   "source": [
    "def single_point_cross_over(genome1, genome2):\n",
    "    if len(genome1) != len(genome2):\n",
    "        print(genome1)\n",
    "        print(genome2)\n",
    "        raise ValueError(\"Genomes 1 and 2 must be of same length\")\n",
    "        \n",
    "    length = len(genome1)\n",
    "    \n",
    "    if length < 2:\n",
    "        return genome1, genome2\n",
    "    \n",
    "    position = randint(1, length-1)\n",
    "    return genome1[0:position] + genome2[position:], genome2[0:position] + genome1[position:]"
   ]
  },
  {
   "cell_type": "code",
   "execution_count": null,
   "id": "2e514692-37aa-40bd-8d33-9837365b1c58",
   "metadata": {},
   "outputs": [],
   "source": [
    "test_genome1 = [1, 2, 3, 4, 5, 6, 7 ,8, 9 , 10]\n",
    "test_genome2 = [10, 9 , 8, 7, 6, 5, 4, 3, 2, 1]\n",
    "\n",
    "test_genome11, test_genome21 = single_point_cross_over(test_genome1, test_genome2)\n",
    "print(test_genome11)\n",
    "print(test_genome21)"
   ]
  },
  {
   "cell_type": "markdown",
   "id": "f368a4ac-62b1-4d71-95e4-297ef601a4d1",
   "metadata": {},
   "source": [
    "### Mutation"
   ]
  },
  {
   "cell_type": "code",
   "execution_count": null,
   "id": "505343d8-8cb5-4e7d-a9cc-a69fa530c9a7",
   "metadata": {},
   "outputs": [],
   "source": [
    "def mutation(genome, number=1):\n",
    "    for _ in range(number):\n",
    "        index = randrange(len(genome))\n",
    "        genome[index] = choices(['a','b','c','d'], k=1)[0]\n",
    "        \n",
    "        return genome"
   ]
  },
  {
   "cell_type": "code",
   "execution_count": null,
   "id": "97e5541e-9cdd-4365-ab2c-f9230ff8211d",
   "metadata": {},
   "outputs": [],
   "source": [
    "test_genome3 = [1, 2, 3, 4, 5, 6, 7 ,8, 9 , 10]\n",
    "new = mutation(test_genome3)\n",
    "new"
   ]
  },
  {
   "cell_type": "markdown",
   "id": "fb49f135-4be4-480e-b2aa-91c56cccd626",
   "metadata": {},
   "source": [
    "### Evolution"
   ]
  },
  {
   "cell_type": "code",
   "execution_count": null,
   "id": "db730ab6-0da8-41f2-9a45-f0ac978e3bcd",
   "metadata": {},
   "outputs": [],
   "source": [
    "def run_evolution(initial_population, encoder_feature, df_state, generation_limit=100):\n",
    "    \n",
    "    # Parameter setting\n",
    "    pop_crossover_threshold = 0.80\n",
    "    pop_mutation_threshold = 0.02\n",
    "    \n",
    "    population = initial_population\n",
    "    \n",
    "    for i in range(generation_limit):\n",
    "        \n",
    "        # 1. Calculate fitness score for all population\n",
    "        fitness_scores = [fitness(genome, encoder_feature, df_state,20, False) for genome in population]\n",
    "\n",
    "        max_score = max(fitness_scores)\n",
    "        \n",
    "        #if i in (1000, 2000, 3000, 4000, 5000, 6000, 7000, 8000, 9000, 10000):\n",
    "        print(f'round {i} has max score {max_score}.')  #The whole score list {fitness_scores}')\n",
    "\n",
    "        # 2. Evaluation\n",
    "        if max_score >= 10:\n",
    "            population_and_score = list(zip(score, population))\n",
    "            sorted_population_and_score = population_and_score.sort(reverse=True)\n",
    "            top_population = sorted_population_and_score[0]\n",
    "            print(f\"The best population is {top_population[1]} with score {top_population[0]}\")\n",
    "            break\n",
    "\n",
    "        # 3. Select new population\n",
    "        adjust_score = [i for i in fitness_scores]\n",
    "        weight_selection = [i/sum(adjust_score) for i in adjust_score] # Weight for random new population\n",
    "        new_population = selection_pair(population, weight_selection, 10)\n",
    "        \n",
    "        # 4. Crossover\n",
    "        pop_crossover = uniform(0, 1)\n",
    "\n",
    "        if pop_crossover <= pop_crossover_threshold:\n",
    "            \n",
    "            offspring1, offspring2 = single_point_cross_over(new_population[0], new_population[1])\n",
    "            offspring3, offspring4 = single_point_cross_over(new_population[2], new_population[3])\n",
    "            offspring5, offspring6 = single_point_cross_over(new_population[4], new_population[5])\n",
    "            offspring7, offspring8 = single_point_cross_over(new_population[6], new_population[7])\n",
    "            offspring9, offspring10 = single_point_cross_over(new_population[8], new_population[9])\n",
    "\n",
    "            new_population = [offspring1, offspring2, offspring3, offspring4, offspring5, offspring6, offspring7, offspring8, offspring9, offspring10]\n",
    "    \n",
    "        # 5. Mutation\n",
    "        for idx, genome in enumerate(new_population):\n",
    "            pop_mutation = uniform(0, 1)\n",
    "            if pop_mutation <= pop_mutation_threshold: \n",
    "                new_population[idx] = mutation(genome)\n",
    "        \n",
    "        population = new_population\n",
    "        \n",
    "        # 6. Exist loop when exceed the generation_limit\n",
    "        if i == generation_limit - 1:\n",
    "            fitness_scores = [fitness(genome, encoder_feature, df_PWF) for genome in population]\n",
    "            population_and_score = list(zip(fitness_scores, population))\n",
    "            population_and_score.sort(reverse=True)\n",
    "            top_population = population_and_score[0]\n",
    "            print(f\"Last round the best population is {top_population[1]} with score {top_population[0]}\")\n",
    "            \n",
    "    return(fitness_scores)\n",
    "        "
   ]
  },
  {
   "cell_type": "code",
   "execution_count": null,
   "id": "27dd7495-38a1-488a-96a6-a0c8dbe5b854",
   "metadata": {},
   "outputs": [],
   "source": [
    "df_feature = df_scale['Tor-Rot']\n",
    "feature_encoded = encode_feature(df_feature) "
   ]
  },
  {
   "cell_type": "code",
   "execution_count": null,
   "id": "bce41012-1444-429f-9759-82ac2d2dac12",
   "metadata": {},
   "outputs": [],
   "source": [
    "df_PWF = df['PWF']"
   ]
  },
  {
   "cell_type": "code",
   "execution_count": null,
   "id": "dda502b1-5727-4756-8084-b5fe966156c3",
   "metadata": {},
   "outputs": [],
   "source": [
    "population = generate_population(10, 5)\n",
    "\n",
    "score = run_evolution(population, encode_torque, df_PWF, 20000)"
   ]
  },
  {
   "cell_type": "code",
   "execution_count": null,
   "id": "167dad97-973c-4e03-b5ac-85455687d562",
   "metadata": {},
   "outputs": [],
   "source": [
    "a = ['A', 'B', 'C']\n",
    "b = [3, 2, 1]\n",
    "\n",
    "result = zip(b, a)\n",
    "c =list(result)"
   ]
  },
  {
   "cell_type": "code",
   "execution_count": null,
   "id": "822ba5b7-8f25-47d2-a798-6d8c6cee3bcc",
   "metadata": {},
   "outputs": [],
   "source": [
    "c"
   ]
  },
  {
   "cell_type": "code",
   "execution_count": null,
   "id": "159546a2-8200-4f48-8d7f-ca1c1c8dec6a",
   "metadata": {},
   "outputs": [],
   "source": [
    "c.sort(reverse=False)\n",
    "c"
   ]
  },
  {
   "cell_type": "code",
   "execution_count": null,
   "id": "6966591b-cae5-411d-8ba4-3b93c18941d5",
   "metadata": {},
   "outputs": [],
   "source": [
    "c[0][1]"
   ]
  },
  {
   "cell_type": "code",
   "execution_count": null,
   "id": "c88419a6-1495-48e8-b3d4-3cdcaf226f76",
   "metadata": {},
   "outputs": [],
   "source": [
    "encode_torque"
   ]
  },
  {
   "cell_type": "code",
   "execution_count": null,
   "id": "4df69560-62b1-4c7d-a6c8-d8dfccf16e60",
   "metadata": {},
   "outputs": [],
   "source": [
    "for i in scores:\n",
    "    print(type(i))"
   ]
  },
  {
   "cell_type": "code",
   "execution_count": null,
   "id": "8c171daa-7ac6-4ad6-9ba5-2ae54f78b3bc",
   "metadata": {},
   "outputs": [],
   "source": [
    "weight = [i/sum(scores) for i in scores]\n",
    "weight"
   ]
  },
  {
   "cell_type": "code",
   "execution_count": null,
   "id": "92586b95-ae90-4f8f-be1f-0168417af197",
   "metadata": {},
   "outputs": [],
   "source": []
  },
  {
   "cell_type": "code",
   "execution_count": null,
   "id": "5deeed66-0e49-4591-81a0-87a6d05821fd",
   "metadata": {},
   "outputs": [],
   "source": [
    "a1"
   ]
  },
  {
   "cell_type": "code",
   "execution_count": null,
   "id": "90b87715-b312-404d-b128-2bdf5cfd519c",
   "metadata": {},
   "outputs": [],
   "source": [
    "a2 = mutation(a1)"
   ]
  },
  {
   "cell_type": "code",
   "execution_count": null,
   "id": "d02b1e05-b890-4b67-8d64-f9f43098e5b0",
   "metadata": {},
   "outputs": [],
   "source": [
    "a2"
   ]
  },
  {
   "cell_type": "code",
   "execution_count": null,
   "id": "1cc96968-b3cb-4085-aef2-e281b5f1fed4",
   "metadata": {},
   "outputs": [],
   "source": []
  },
  {
   "cell_type": "code",
   "execution_count": null,
   "id": "a198ef2e-c058-44c8-b017-c3c9b7632fdf",
   "metadata": {},
   "outputs": [],
   "source": [
    "a = generate_genome(10)\n",
    "b = generate_genome(10)"
   ]
  },
  {
   "cell_type": "code",
   "execution_count": null,
   "id": "0839aaf4-aaf1-4dc6-b4e5-96dfc568aac7",
   "metadata": {},
   "outputs": [],
   "source": [
    "a1, b1 = single_point_cross_over(a, b)"
   ]
  },
  {
   "cell_type": "code",
   "execution_count": null,
   "id": "056e942c-4e74-4a9a-992a-8b6524479811",
   "metadata": {},
   "outputs": [],
   "source": [
    "print(a)\n",
    "print(b)\n",
    "print(a1)\n",
    "print(b1)"
   ]
  },
  {
   "cell_type": "code",
   "execution_count": null,
   "id": "01f69878-2457-4453-867c-c9801681ba70",
   "metadata": {},
   "outputs": [],
   "source": []
  },
  {
   "cell_type": "code",
   "execution_count": null,
   "id": "6de2b2e8-6c1d-4fbd-8219-494aca400e34",
   "metadata": {},
   "outputs": [],
   "source": [
    "fitness(test_genome, encode_torque, 'a')"
   ]
  },
  {
   "cell_type": "code",
   "execution_count": null,
   "id": "df91b8d4-9cf8-4fc7-9626-014b3262a758",
   "metadata": {},
   "outputs": [],
   "source": [
    "population_test = generate_population(10, 10)"
   ]
  },
  {
   "cell_type": "code",
   "execution_count": null,
   "id": "6bee72f5-18a0-4bf0-b377-48dbf7b06668",
   "metadata": {},
   "outputs": [],
   "source": [
    "p = selection_pair(population_test, fitness)"
   ]
  },
  {
   "cell_type": "code",
   "execution_count": null,
   "id": "2ce5b269-bd70-40f7-8fa4-88d19c08f1d2",
   "metadata": {},
   "outputs": [],
   "source": [
    "p"
   ]
  },
  {
   "cell_type": "code",
   "execution_count": null,
   "id": "096b0841-6c26-4702-9c72-fba06fb537da",
   "metadata": {},
   "outputs": [],
   "source": []
  },
  {
   "cell_type": "code",
   "execution_count": null,
   "id": "1c5c8318-747f-4246-a7bf-f74ce987a6bd",
   "metadata": {},
   "outputs": [],
   "source": [
    "a = generate_genome(10)\n",
    "a"
   ]
  },
  {
   "cell_type": "code",
   "execution_count": null,
   "id": "d37cd704-b9d1-4685-9318-58f9ab02e1e9",
   "metadata": {},
   "outputs": [],
   "source": [
    "get_expression(a)"
   ]
  },
  {
   "cell_type": "code",
   "execution_count": null,
   "id": "9b1bc0d6-94af-49b6-8f5b-5708b0b5c1ee",
   "metadata": {},
   "outputs": [],
   "source": []
  },
  {
   "cell_type": "code",
   "execution_count": null,
   "id": "8a2fec84-9fe1-4b31-b54e-87f9014fc065",
   "metadata": {},
   "outputs": [],
   "source": []
  },
  {
   "cell_type": "code",
   "execution_count": null,
   "id": "c1ac41d4-c832-4c5e-8da5-2091fb3fb5de",
   "metadata": {},
   "outputs": [],
   "source": []
  },
  {
   "cell_type": "code",
   "execution_count": null,
   "id": "301091fd-5d37-443f-b60e-3eb018c85b5f",
   "metadata": {},
   "outputs": [],
   "source": [
    "# Test rolling windows\n",
    "\n",
    "test_list = [1,2,3,4,5,7,8,9,10]\n",
    "\n",
    "windows = pd.DataFrame(test_list).rolling(2)\n",
    "\n",
    "for idx, i in enumerate(windows):\n",
    "    print(list(i[0]))"
   ]
  },
  {
   "cell_type": "code",
   "execution_count": null,
   "id": "111e33be-b3d6-4c2d-ad73-119bb8b8d516",
   "metadata": {},
   "outputs": [],
   "source": [
    "a = [1,2,3,4]"
   ]
  },
  {
   "cell_type": "code",
   "execution_count": null,
   "id": "e5471f71-6a89-4f1e-9dd9-769816183fe4",
   "metadata": {},
   "outputs": [],
   "source": [
    "weight = [i/sum(a) for i in a]"
   ]
  },
  {
   "cell_type": "code",
   "execution_count": null,
   "id": "ff5a6bbc-c19a-4ce5-b70b-f6c7daee518e",
   "metadata": {},
   "outputs": [],
   "source": [
    "weight"
   ]
  },
  {
   "cell_type": "code",
   "execution_count": null,
   "id": "c9f697c9-dd2e-4139-8a45-fff3d1f1dae6",
   "metadata": {},
   "outputs": [],
   "source": []
  },
  {
   "cell_type": "code",
   "execution_count": null,
   "id": "1cd62119-a82d-4d94-91f1-29b7e73cf455",
   "metadata": {},
   "outputs": [],
   "source": []
  }
 ],
 "metadata": {
  "kernelspec": {
   "display_name": "Python 3",
   "language": "python",
   "name": "python3"
  },
  "language_info": {
   "codemirror_mode": {
    "name": "ipython",
    "version": 3
   },
   "file_extension": ".py",
   "mimetype": "text/x-python",
   "name": "python",
   "nbconvert_exporter": "python",
   "pygments_lexer": "ipython3",
   "version": "3.8.8"
  }
 },
 "nbformat": 4,
 "nbformat_minor": 5
}
