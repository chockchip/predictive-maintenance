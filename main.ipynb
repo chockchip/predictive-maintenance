{
 "cells": [
  {
   "cell_type": "code",
   "execution_count": 1,
   "id": "1d030863-2357-448d-8d6a-68034d51a2d3",
   "metadata": {},
   "outputs": [],
   "source": [
    "# Refer to path of package\n",
    "import sys\n",
    "sys.path.append('/Users/watcharapongwongrattanasirikul/Documents/Git/Jupyter/my_env/lib/python3.8/site-packages')"
   ]
  },
  {
   "cell_type": "code",
   "execution_count": 2,
   "id": "d2907a0e-95b3-41ff-a964-3d2e1019f1ff",
   "metadata": {},
   "outputs": [],
   "source": [
    "# Import Lib\n",
    "import pandas as pd\n",
    "import numpy as np\n",
    "from matplotlib import pyplot as plt\n",
    "import seaborn as sns\n",
    "from sklearn.ensemble import IsolationForest\n",
    "from sklearn.metrics import confusion_matrix, accuracy_score, roc_auc_score, classification_report\n",
    "import re\n",
    "from random import choices, randint, randrange, uniform"
   ]
  },
  {
   "cell_type": "code",
   "execution_count": 3,
   "id": "94bfe675-1b0d-4997-946d-d2b244beee9b",
   "metadata": {},
   "outputs": [],
   "source": [
    "from ml_helper import MlHelper\n",
    "from eda_helper import EdaHelper\n",
    "from sampling_helper import SamplingHelper\n",
    "from impute_helper import ImputeHelper\n",
    "from impute_helper import imputation_strategy\n",
    "from ml_helper import model_type\n",
    "from ml_helper import resampler_type\n",
    "from ml_helper import scaler_type"
   ]
  },
  {
   "cell_type": "code",
   "execution_count": 4,
   "id": "952b095c-197d-465b-b63d-dc9a6ead0093",
   "metadata": {},
   "outputs": [
    {
     "data": {
      "text/html": [
       "<div>\n",
       "<style scoped>\n",
       "    .dataframe tbody tr th:only-of-type {\n",
       "        vertical-align: middle;\n",
       "    }\n",
       "\n",
       "    .dataframe tbody tr th {\n",
       "        vertical-align: top;\n",
       "    }\n",
       "\n",
       "    .dataframe thead th {\n",
       "        text-align: right;\n",
       "    }\n",
       "</style>\n",
       "<table border=\"1\" class=\"dataframe\">\n",
       "  <thead>\n",
       "    <tr style=\"text-align: right;\">\n",
       "      <th></th>\n",
       "      <th>UDI</th>\n",
       "      <th>Product ID</th>\n",
       "      <th>Type</th>\n",
       "      <th>Air temperature [K]</th>\n",
       "      <th>Process temperature [K]</th>\n",
       "      <th>Rotational speed [rpm]</th>\n",
       "      <th>Torque [Nm]</th>\n",
       "      <th>Tool wear [min]</th>\n",
       "      <th>Machine failure</th>\n",
       "      <th>TWF</th>\n",
       "      <th>HDF</th>\n",
       "      <th>PWF</th>\n",
       "      <th>OSF</th>\n",
       "      <th>RNF</th>\n",
       "    </tr>\n",
       "  </thead>\n",
       "  <tbody>\n",
       "    <tr>\n",
       "      <th>0</th>\n",
       "      <td>1</td>\n",
       "      <td>M14860</td>\n",
       "      <td>M</td>\n",
       "      <td>298.1</td>\n",
       "      <td>308.6</td>\n",
       "      <td>1551</td>\n",
       "      <td>42.8</td>\n",
       "      <td>0</td>\n",
       "      <td>0</td>\n",
       "      <td>0</td>\n",
       "      <td>0</td>\n",
       "      <td>0</td>\n",
       "      <td>0</td>\n",
       "      <td>0</td>\n",
       "    </tr>\n",
       "    <tr>\n",
       "      <th>1</th>\n",
       "      <td>2</td>\n",
       "      <td>L47181</td>\n",
       "      <td>L</td>\n",
       "      <td>298.2</td>\n",
       "      <td>308.7</td>\n",
       "      <td>1408</td>\n",
       "      <td>46.3</td>\n",
       "      <td>3</td>\n",
       "      <td>0</td>\n",
       "      <td>0</td>\n",
       "      <td>0</td>\n",
       "      <td>0</td>\n",
       "      <td>0</td>\n",
       "      <td>0</td>\n",
       "    </tr>\n",
       "    <tr>\n",
       "      <th>2</th>\n",
       "      <td>3</td>\n",
       "      <td>L47182</td>\n",
       "      <td>L</td>\n",
       "      <td>298.1</td>\n",
       "      <td>308.5</td>\n",
       "      <td>1498</td>\n",
       "      <td>49.4</td>\n",
       "      <td>5</td>\n",
       "      <td>0</td>\n",
       "      <td>0</td>\n",
       "      <td>0</td>\n",
       "      <td>0</td>\n",
       "      <td>0</td>\n",
       "      <td>0</td>\n",
       "    </tr>\n",
       "    <tr>\n",
       "      <th>3</th>\n",
       "      <td>4</td>\n",
       "      <td>L47183</td>\n",
       "      <td>L</td>\n",
       "      <td>298.2</td>\n",
       "      <td>308.6</td>\n",
       "      <td>1433</td>\n",
       "      <td>39.5</td>\n",
       "      <td>7</td>\n",
       "      <td>0</td>\n",
       "      <td>0</td>\n",
       "      <td>0</td>\n",
       "      <td>0</td>\n",
       "      <td>0</td>\n",
       "      <td>0</td>\n",
       "    </tr>\n",
       "    <tr>\n",
       "      <th>4</th>\n",
       "      <td>5</td>\n",
       "      <td>L47184</td>\n",
       "      <td>L</td>\n",
       "      <td>298.2</td>\n",
       "      <td>308.7</td>\n",
       "      <td>1408</td>\n",
       "      <td>40.0</td>\n",
       "      <td>9</td>\n",
       "      <td>0</td>\n",
       "      <td>0</td>\n",
       "      <td>0</td>\n",
       "      <td>0</td>\n",
       "      <td>0</td>\n",
       "      <td>0</td>\n",
       "    </tr>\n",
       "  </tbody>\n",
       "</table>\n",
       "</div>"
      ],
      "text/plain": [
       "   UDI Product ID Type  Air temperature [K]  Process temperature [K]  \\\n",
       "0    1     M14860    M                298.1                    308.6   \n",
       "1    2     L47181    L                298.2                    308.7   \n",
       "2    3     L47182    L                298.1                    308.5   \n",
       "3    4     L47183    L                298.2                    308.6   \n",
       "4    5     L47184    L                298.2                    308.7   \n",
       "\n",
       "   Rotational speed [rpm]  Torque [Nm]  Tool wear [min]  Machine failure  TWF  \\\n",
       "0                    1551         42.8                0                0    0   \n",
       "1                    1408         46.3                3                0    0   \n",
       "2                    1498         49.4                5                0    0   \n",
       "3                    1433         39.5                7                0    0   \n",
       "4                    1408         40.0                9                0    0   \n",
       "\n",
       "   HDF  PWF  OSF  RNF  \n",
       "0    0    0    0    0  \n",
       "1    0    0    0    0  \n",
       "2    0    0    0    0  \n",
       "3    0    0    0    0  \n",
       "4    0    0    0    0  "
      ]
     },
     "execution_count": 4,
     "metadata": {},
     "output_type": "execute_result"
    }
   ],
   "source": [
    "file_path = '/Users/watcharapongwongrattanasirikul/Documents/Git/predictive-maintenance/train_timeseries.csv'\n",
    "\n",
    "df = pd.read_csv(file_path)\n",
    "df.head(5)"
   ]
  },
  {
   "cell_type": "code",
   "execution_count": 5,
   "id": "5652c399-2fd9-422f-91ca-e511f53f1cc5",
   "metadata": {},
   "outputs": [
    {
     "data": {
      "text/html": [
       "<div>\n",
       "<style scoped>\n",
       "    .dataframe tbody tr th:only-of-type {\n",
       "        vertical-align: middle;\n",
       "    }\n",
       "\n",
       "    .dataframe tbody tr th {\n",
       "        vertical-align: top;\n",
       "    }\n",
       "\n",
       "    .dataframe thead th {\n",
       "        text-align: right;\n",
       "    }\n",
       "</style>\n",
       "<table border=\"1\" class=\"dataframe\">\n",
       "  <thead>\n",
       "    <tr style=\"text-align: right;\">\n",
       "      <th></th>\n",
       "      <th>UDI</th>\n",
       "      <th>Product ID</th>\n",
       "      <th>Type</th>\n",
       "      <th>AirTemp</th>\n",
       "      <th>ProcessTemp</th>\n",
       "      <th>RotationalSpeed</th>\n",
       "      <th>Torque</th>\n",
       "      <th>ToolWear</th>\n",
       "      <th>MF</th>\n",
       "      <th>TWF</th>\n",
       "      <th>HDF</th>\n",
       "      <th>PWF</th>\n",
       "      <th>OSF</th>\n",
       "      <th>RNF</th>\n",
       "    </tr>\n",
       "  </thead>\n",
       "  <tbody>\n",
       "    <tr>\n",
       "      <th>0</th>\n",
       "      <td>1</td>\n",
       "      <td>M14860</td>\n",
       "      <td>M</td>\n",
       "      <td>298.1</td>\n",
       "      <td>308.6</td>\n",
       "      <td>1551</td>\n",
       "      <td>42.8</td>\n",
       "      <td>0</td>\n",
       "      <td>0</td>\n",
       "      <td>0</td>\n",
       "      <td>0</td>\n",
       "      <td>0</td>\n",
       "      <td>0</td>\n",
       "      <td>0</td>\n",
       "    </tr>\n",
       "    <tr>\n",
       "      <th>1</th>\n",
       "      <td>2</td>\n",
       "      <td>L47181</td>\n",
       "      <td>L</td>\n",
       "      <td>298.2</td>\n",
       "      <td>308.7</td>\n",
       "      <td>1408</td>\n",
       "      <td>46.3</td>\n",
       "      <td>3</td>\n",
       "      <td>0</td>\n",
       "      <td>0</td>\n",
       "      <td>0</td>\n",
       "      <td>0</td>\n",
       "      <td>0</td>\n",
       "      <td>0</td>\n",
       "    </tr>\n",
       "    <tr>\n",
       "      <th>2</th>\n",
       "      <td>3</td>\n",
       "      <td>L47182</td>\n",
       "      <td>L</td>\n",
       "      <td>298.1</td>\n",
       "      <td>308.5</td>\n",
       "      <td>1498</td>\n",
       "      <td>49.4</td>\n",
       "      <td>5</td>\n",
       "      <td>0</td>\n",
       "      <td>0</td>\n",
       "      <td>0</td>\n",
       "      <td>0</td>\n",
       "      <td>0</td>\n",
       "      <td>0</td>\n",
       "    </tr>\n",
       "    <tr>\n",
       "      <th>3</th>\n",
       "      <td>4</td>\n",
       "      <td>L47183</td>\n",
       "      <td>L</td>\n",
       "      <td>298.2</td>\n",
       "      <td>308.6</td>\n",
       "      <td>1433</td>\n",
       "      <td>39.5</td>\n",
       "      <td>7</td>\n",
       "      <td>0</td>\n",
       "      <td>0</td>\n",
       "      <td>0</td>\n",
       "      <td>0</td>\n",
       "      <td>0</td>\n",
       "      <td>0</td>\n",
       "    </tr>\n",
       "    <tr>\n",
       "      <th>4</th>\n",
       "      <td>5</td>\n",
       "      <td>L47184</td>\n",
       "      <td>L</td>\n",
       "      <td>298.2</td>\n",
       "      <td>308.7</td>\n",
       "      <td>1408</td>\n",
       "      <td>40.0</td>\n",
       "      <td>9</td>\n",
       "      <td>0</td>\n",
       "      <td>0</td>\n",
       "      <td>0</td>\n",
       "      <td>0</td>\n",
       "      <td>0</td>\n",
       "      <td>0</td>\n",
       "    </tr>\n",
       "  </tbody>\n",
       "</table>\n",
       "</div>"
      ],
      "text/plain": [
       "   UDI Product ID Type  AirTemp  ProcessTemp  RotationalSpeed  Torque  \\\n",
       "0    1     M14860    M    298.1        308.6             1551    42.8   \n",
       "1    2     L47181    L    298.2        308.7             1408    46.3   \n",
       "2    3     L47182    L    298.1        308.5             1498    49.4   \n",
       "3    4     L47183    L    298.2        308.6             1433    39.5   \n",
       "4    5     L47184    L    298.2        308.7             1408    40.0   \n",
       "\n",
       "   ToolWear  MF  TWF  HDF  PWF  OSF  RNF  \n",
       "0         0   0    0    0    0    0    0  \n",
       "1         3   0    0    0    0    0    0  \n",
       "2         5   0    0    0    0    0    0  \n",
       "3         7   0    0    0    0    0    0  \n",
       "4         9   0    0    0    0    0    0  "
      ]
     },
     "execution_count": 5,
     "metadata": {},
     "output_type": "execute_result"
    }
   ],
   "source": [
    "# Rename of columns\n",
    "df = df.rename(columns={\n",
    "    'Air temperature [K]':'AirTemp',\n",
    "    'Process temperature [K]':'ProcessTemp',\n",
    "    'Rotational speed [rpm]':'RotationalSpeed',\n",
    "    'Torque [Nm]':'Torque',\n",
    "    'Tool wear [min]': 'ToolWear',\n",
    "    'Machine failure':'MF'\n",
    "})\n",
    "df.head()"
   ]
  },
  {
   "cell_type": "code",
   "execution_count": 6,
   "id": "0af5881b-c662-4ac4-a41e-b20a113d99b6",
   "metadata": {},
   "outputs": [],
   "source": [
    "def plot_distribution(df, label, class_label):\n",
    "    \n",
    "    df_feature_analyze = df[[class_label, label]]\n",
    "    \n",
    "    feature_0 = df_feature_analyze[df_feature_analyze[label] == 0]\n",
    "    feature_1 = df_feature_analyze[df_feature_analyze[label] == 1]\n",
    "    \n",
    "    \n",
    "#     feature_1_gt_zero = df_feature_analyze[(df_feature_analyze[label] > 0) & df_feature_analyze[label] == 1]\n",
    "#     feature_gt_zero = len(feature_1_gt_zero)\n",
    "    \n",
    "    rows = 1\n",
    "    columns = 1 \n",
    "    \n",
    "    fig, axs = plt.subplots(rows, columns, sharex=True, figsize=(12,5))\n",
    "    \n",
    "#     fig.suptitle(f'Distribution of feature {label}')\n",
    "        \n",
    "    sns.distplot(\n",
    "                x=feature_1[class_label],\n",
    "                hist=False, \n",
    "                kde=True, \n",
    "                bins=int(100), \n",
    "                color = 'red',\n",
    "                hist_kws={'edgecolor':'black'})\n",
    "    \n",
    "    sns.distplot(\n",
    "             x=feature_0[class_label],\n",
    "             hist=False, \n",
    "             kde=True, \n",
    "             bins=int(100), \n",
    "             color = 'skyblue',\n",
    "             hist_kws={'edgecolor':'black'})\n",
    "    \n",
    "    axs.set_xlabel(class_label)\n",
    "    \n",
    "    # plot count of postive class and feature has value greather than zero\n",
    " \n",
    "    plt.legend()\n",
    "    \n",
    "    \n",
    "    sns.despine()"
   ]
  },
  {
   "cell_type": "code",
   "execution_count": 7,
   "id": "5035c180-8f7e-46d1-9f5b-4f6a272854a8",
   "metadata": {},
   "outputs": [
    {
     "name": "stderr",
     "output_type": "stream",
     "text": [
      "/Users/watcharapongwongrattanasirikul/opt/anaconda3/lib/python3.8/site-packages/seaborn/distributions.py:2557: FutureWarning: `distplot` is a deprecated function and will be removed in a future version. Please adapt your code to use either `displot` (a figure-level function with similar flexibility) or `kdeplot` (an axes-level function for kernel density plots).\n",
      "  warnings.warn(msg, FutureWarning)\n",
      "/Users/watcharapongwongrattanasirikul/opt/anaconda3/lib/python3.8/site-packages/seaborn/distributions.py:2557: FutureWarning: `distplot` is a deprecated function and will be removed in a future version. Please adapt your code to use either `displot` (a figure-level function with similar flexibility) or `kdeplot` (an axes-level function for kernel density plots).\n",
      "  warnings.warn(msg, FutureWarning)\n",
      "No handles with labels found to put in legend.\n"
     ]
    },
    {
     "data": {
      "image/png": "[encoded data removed]",
      "text/plain": [
       "<Figure size 864x360 with 1 Axes>"
      ]
     },
     "metadata": {
      "needs_background": "light"
     },
     "output_type": "display_data"
    }
   ],
   "source": [
    "plot_distribution(df, 'MF', 'RotationalSpeed')"
   ]
  },
  {
   "cell_type": "code",
   "execution_count": 8,
   "id": "f218b875-0a21-4016-8711-9df20b0cad4c",
   "metadata": {},
   "outputs": [
    {
     "data": {
      "text/plain": [
       "<AxesSubplot:ylabel='AirTemp'>"
      ]
     },
     "execution_count": 8,
     "metadata": {},
     "output_type": "execute_result"
    },
    {
     "data": {
      "image/png": "[encoded data removed]",
      "text/plain": [
       "<Figure size 3024x1080 with 1 Axes>"
      ]
     },
     "metadata": {
      "needs_background": "light"
     },
     "output_type": "display_data"
    }
   ],
   "source": [
    "# Line plot\n",
    "\n",
    "fig, ax = plt.subplots(1, 1, figsize=(42,15))\n",
    "sns.lineplot(x=range(df.shape[0]), y='AirTemp', data=df, alpha=0.5, color='brown' )"
   ]
  },
  {
   "cell_type": "code",
   "execution_count": 10,
   "id": "4472f4d4-19fe-4404-b8a9-2be06629ae97",
   "metadata": {},
   "outputs": [
    {
     "data": {
      "image/png": "[encoded data removed]",
      "text/plain": [
       "<Figure size 582.375x540 with 20 Axes>"
      ]
     },
     "metadata": {
      "needs_background": "light"
     },
     "output_type": "display_data"
    }
   ],
   "source": [
    "# Pair plot\n",
    "\n",
    "df_pairplot = df.drop(['UDI', 'Product ID', 'Type', 'TWF', 'HDF', 'PWF', 'OSF', 'RNF'], axis=1, )\n",
    "\n",
    "sns.pairplot(df_pairplot, hue='MF', corner=True,  height=1.5)\n",
    "plt.savefig('overall.png')"
   ]
  },
  {
   "cell_type": "code",
   "execution_count": null,
   "id": "ce460fd9-2e0e-4aea-8ffd-c39fa938988e",
   "metadata": {},
   "outputs": [],
   "source": [
    "# Pair plot\n",
    "\n",
    "df_pairplot = df.drop(['UDI', 'Product ID', 'Type', 'MF', 'HDF', 'PWF', 'OSF', 'RNF'], axis=1, )\n",
    "\n",
    "sns.pairplot(df_pairplot, hue='TWF', corner=True,  height=1.5)"
   ]
  },
  {
   "cell_type": "code",
   "execution_count": null,
   "id": "66bcca0e-4fd5-490b-b5b3-de849bed1939",
   "metadata": {},
   "outputs": [],
   "source": [
    "# Pair plot\n",
    "\n",
    "df_pairplot = df.drop(['UDI', 'Product ID', 'Type', 'MF', 'TWF', 'PWF', 'OSF', 'RNF'], axis=1, )\n",
    "\n",
    "sns.pairplot(df_pairplot, hue='HDF', corner=True,  height=1.5)"
   ]
  },
  {
   "cell_type": "code",
   "execution_count": null,
   "id": "ce4200ea-aee8-4fe5-9089-3c6fc3bd0c30",
   "metadata": {},
   "outputs": [],
   "source": [
    "# Pair plot\n",
    "\n",
    "df_pairplot = df.drop(['UDI', 'Product ID', 'Type', 'MF', 'TWF', 'HDF', 'OSF', 'RNF'], axis=1, )\n",
    "\n",
    "sns.pairplot(df_pairplot, hue='PWF', corner=True,  height=1.5)"
   ]
  },
  {
   "cell_type": "code",
   "execution_count": null,
   "id": "1c072136-162d-49af-9400-81041b198ee4",
   "metadata": {},
   "outputs": [],
   "source": [
    "# Pair plot\n",
    "\n",
    "df_pairplot = df.drop(['UDI', 'Product ID', 'Type', 'MF', 'TWF', 'PWF', 'HDF', 'RNF'], axis=1, )\n",
    "\n",
    "sns.pairplot(df_pairplot, hue='OSF', corner=True,  height=1.5)"
   ]
  },
  {
   "cell_type": "code",
   "execution_count": null,
   "id": "edda35ce-c647-4623-b656-fe67990c542a",
   "metadata": {},
   "outputs": [],
   "source": [
    "# Pair plot\n",
    "\n",
    "df_pairplot = df.drop(['UDI', 'Product ID', 'Type', 'MF', 'TWF', 'PWF', 'HDF', 'OSF'], axis=1, )\n",
    "\n",
    "sns.pairplot(df_pairplot, hue='RNF', corner=True,  height=1.5)"
   ]
  },
  {
   "cell_type": "markdown",
   "id": "a6280825-5cf0-4041-963d-ad05228f053a",
   "metadata": {},
   "source": [
    "### Feature Engineering"
   ]
  },
  {
   "cell_type": "code",
   "execution_count": null,
   "id": "d63d7ef4-0c14-4350-a4bb-7433a123ce84",
   "metadata": {},
   "outputs": [],
   "source": [
    "def log_feature(val):\n",
    "    result = np.log(val)\n",
    "    \n",
    "    if result not in [np.inf, -np.inf, np.NaN]:\n",
    "        return result\n",
    "    else:\n",
    "        return 0"
   ]
  },
  {
   "cell_type": "code",
   "execution_count": null,
   "id": "6762d673-1da6-4232-a9fe-896c13a9accc",
   "metadata": {},
   "outputs": [],
   "source": [
    "def devide_feature(val):\n",
    "    if val[1] == 0:\n",
    "        return 0\n",
    "    else:\n",
    "        return val[0]/val[1]"
   ]
  },
  {
   "cell_type": "code",
   "execution_count": null,
   "id": "c027e5c4-5f52-4525-a40a-61a89cefc835",
   "metadata": {},
   "outputs": [],
   "source": [
    "# Add log feature\n",
    "df['AirTempLog'] = (df['AirTemp']).transform(log_feature)\n",
    "df['ProcessTempLog'] = (df['ProcessTemp']).transform(log_feature)\n",
    "df['RotationalSpeedLog'] = (df['RotationalSpeed']).transform(log_feature)\n",
    "df['TorqueLog'] = (df['Torque']).transform(log_feature)\n",
    "df['ToolWearLog'] = (df['ToolWear']).transform(log_feature)"
   ]
  },
  {
   "cell_type": "code",
   "execution_count": null,
   "id": "0189299f-81b4-44ab-82c6-b45064cff460",
   "metadata": {},
   "outputs": [],
   "source": [
    "# Add devided feature\n",
    "\n",
    "df['AirTempProcessTempDevided'] = (df[['AirTemp', 'ProcessTemp']]).apply(devide_feature, axis=1)\n",
    "df['TorqueRotationalSpeedDevided'] = (df[['Torque', 'RotationalSpeed']]).apply(devide_feature, axis=1)"
   ]
  },
  {
   "cell_type": "code",
   "execution_count": null,
   "id": "b2904c5e-6e86-47fb-ad85-f40b8572b51f",
   "metadata": {},
   "outputs": [],
   "source": [
    "# Add square feature\n",
    "\n",
    "df['AirTempSq'] = (df['AirTemp']) * (df['AirTemp'])\n",
    "df['ProcessTempSq'] = (df['ProcessTemp']) * (df['ProcessTemp'])\n",
    "df['RotationalSpeedSq'] = (df['RotationalSpeed']) * (df['RotationalSpeed'])\n",
    "df['TorqueSq'] = (df['Torque']) * (df['Torque'])\n",
    "df['ToolWearSq'] = (df['ToolWear']) * (df['ToolWear'])"
   ]
  },
  {
   "cell_type": "code",
   "execution_count": null,
   "id": "0d9cd150-7896-4969-bc04-a9eba2f6a230",
   "metadata": {},
   "outputs": [],
   "source": [
    "# This function use to encode data point to be class label\n",
    "# a = data less than or equal percentile 25\n",
    "# b = data less than or equal percentile 50\n",
    "# c = data less than or equal percentile 75\n",
    "# d = data greater than percentile 75\n",
    "\n",
    "def encode_feature(df):\n",
    "    \n",
    "    mean = np.mean(df)\n",
    "    std = np.std(df)\n",
    "    \n",
    "    encoder_list = []\n",
    "    \n",
    "    for data_point in df:\n",
    "        \n",
    "        if data_point <= (mean - (3*std)):\n",
    "            encoder_list.append(1)\n",
    "            continue\n",
    "        \n",
    "        if data_point <= (mean - (2*std)):\n",
    "            encoder_list.append(2)\n",
    "            continue\n",
    "            \n",
    "        if data_point <= (mean - (1*std)):\n",
    "            encoder_list.append(3)\n",
    "            continue\n",
    "            \n",
    "        if data_point <= mean:\n",
    "            encoder_list.append(4)\n",
    "            continue\n",
    "            \n",
    "        if data_point <= (mean + (1*std)):\n",
    "            encoder_list.append(5)\n",
    "            continue\n",
    "            \n",
    "        if data_point <= (mean + (2*std)):\n",
    "            encoder_list.append(6)\n",
    "            continue       \n",
    "                        \n",
    "        encoder_list.append(7)\n",
    "\n",
    "    return encoder_list"
   ]
  },
  {
   "cell_type": "code",
   "execution_count": null,
   "id": "0d6b3d16-fbbd-40d0-9fb3-4de75fd22bb0",
   "metadata": {},
   "outputs": [],
   "source": [
    "df['Airtemp_Class'] = encode_feature(df['AirTemp'])\n",
    "df['ProcessTemp_Class'] = encode_feature(df['ProcessTemp'])\n",
    "df['Rotational_Class'] = encode_feature(df['RotationalSpeed'])\n",
    "df['Torque_Class'] = encode_feature(df['Torque'])\n",
    "df['ToolWear_Class'] = encode_feature(df['ToolWear'])"
   ]
  },
  {
   "cell_type": "code",
   "execution_count": null,
   "id": "9a2097df-e4ac-4e48-be91-6987ed5fc165",
   "metadata": {},
   "outputs": [],
   "source": [
    "df.head(2)"
   ]
  },
  {
   "cell_type": "markdown",
   "id": "42e345fd-da2c-47c7-995c-9a165e0bc968",
   "metadata": {},
   "source": [
    "### Feature Selection"
   ]
  },
  {
   "cell_type": "code",
   "execution_count": null,
   "id": "4c7f4c6b-b747-4611-90f1-2ba789a85e9d",
   "metadata": {},
   "outputs": [],
   "source": [
    "label = 'TWF'"
   ]
  },
  {
   "cell_type": "code",
   "execution_count": null,
   "id": "2b24c184-db93-49de-88be-50c238b26faa",
   "metadata": {},
   "outputs": [],
   "source": [
    "unuse_column = ['UDI', 'Product ID', 'Type']\n",
    "drop_label = ['MF', 'HDF', 'PWF', 'OSF', 'RNF']\n",
    "drop_column = unuse_column + drop_label"
   ]
  },
  {
   "cell_type": "code",
   "execution_count": null,
   "id": "121283cf-451d-4cea-8736-aabf80a06e7a",
   "metadata": {},
   "outputs": [],
   "source": [
    "df_check_feature = df.drop(drop_column, axis=1)\n",
    "\n",
    "importance_features_twf = EdaHelper.get_feature_importance(df_check_feature, label, 0.0)\n",
    "importance_features_twf"
   ]
  },
  {
   "cell_type": "code",
   "execution_count": null,
   "id": "f2b14b15-2edb-4643-8926-2c3b49ffec14",
   "metadata": {},
   "outputs": [],
   "source": [
    "df.head(5)"
   ]
  },
  {
   "cell_type": "markdown",
   "id": "83b97c34-226a-46e7-a2a1-d2d5cc88f73f",
   "metadata": {},
   "source": [
    "### Impute Data"
   ]
  },
  {
   "cell_type": "code",
   "execution_count": null,
   "id": "01821555-9d65-4f27-80a5-f7d979b53ce3",
   "metadata": {},
   "outputs": [],
   "source": [
    "# Drop unused data\n",
    "df.drop(['UDI', 'Product ID', 'Type'], axis=1, inplace=True)\n",
    "df.head(5)"
   ]
  },
  {
   "cell_type": "code",
   "execution_count": null,
   "id": "d577574b-ba0f-40dc-98ea-30864f8933fb",
   "metadata": {},
   "outputs": [],
   "source": [
    "y = df['MF']\n",
    "x = df.drop(['MF'], axis=1)"
   ]
  },
  {
   "cell_type": "code",
   "execution_count": null,
   "id": "4aebee8a-e66f-4dc7-84b6-9ad21e4dcd24",
   "metadata": {},
   "outputs": [],
   "source": [
    "# Under Sampling\n",
    "\n",
    "x_rs_under, y_rs_under = SamplingHelper.under_sampling(x, y)\n",
    "df_under_sampling = EdaHelper.get_dataframe_xy(x_rs_under, y_rs_under)\n",
    "df_under_sampling.head(5)"
   ]
  },
  {
   "cell_type": "code",
   "execution_count": null,
   "id": "2116106b-1691-4360-b7ab-c4e61bfb21ee",
   "metadata": {},
   "outputs": [],
   "source": [
    "# Over Sampling\n",
    "\n",
    "x_rs_over, y_rs_over = SamplingHelper.over_sampling(x, y)\n",
    "df_over_sampling = EdaHelper.get_dataframe_xy(x_rs_over, y_rs_over)\n",
    "df_over_sampling.head(5)"
   ]
  },
  {
   "cell_type": "code",
   "execution_count": null,
   "id": "663010ba-6c0f-4c13-96f5-c96c8651ec6a",
   "metadata": {},
   "outputs": [],
   "source": [
    "# Smote Sampling\n",
    "\n",
    "x_rs_smote, y_rs_smote = SamplingHelper.smote_sampling(x, y)\n",
    "df_smote_sampling = EdaHelper.get_dataframe_xy(x_rs_smote, y_rs_smote)\n",
    "df_smote_sampling.head(5)"
   ]
  },
  {
   "cell_type": "code",
   "execution_count": null,
   "id": "e4c565d1-28e8-4af7-917f-fffabac954d4",
   "metadata": {},
   "outputs": [],
   "source": [
    "# Smote-Tomek Sampling\n",
    "\n",
    "x_rs_smotetomek, y_rs_smotetomek = SamplingHelper.smotetomek_sampling(x, y)\n",
    "df_smotetomek_sampling = EdaHelper.get_dataframe_xy(x_rs_smotetomek, y_rs_smotetomek)\n",
    "df_smotetomek_sampling.head(5)"
   ]
  },
  {
   "cell_type": "code",
   "execution_count": null,
   "id": "4f83fab5-718a-4295-a028-016bb2eb01e1",
   "metadata": {},
   "outputs": [],
   "source": [
    "plot_class_distribution(df_smotetomek_sampling,'MF')"
   ]
  },
  {
   "cell_type": "code",
   "execution_count": null,
   "id": "0b708023-282a-4af6-8102-bbc911d8b71d",
   "metadata": {},
   "outputs": [],
   "source": []
  },
  {
   "cell_type": "code",
   "execution_count": null,
   "id": "85aa23db-776e-4ec9-85d7-26e7ee9f551e",
   "metadata": {},
   "outputs": [],
   "source": []
  },
  {
   "cell_type": "code",
   "execution_count": null,
   "id": "74b02549-0de8-43b7-bd31-73c05be58942",
   "metadata": {},
   "outputs": [],
   "source": []
  },
  {
   "cell_type": "code",
   "execution_count": null,
   "id": "1820b2cf-bea3-4b92-9e3c-e4ae63db575d",
   "metadata": {},
   "outputs": [],
   "source": []
  },
  {
   "cell_type": "code",
   "execution_count": null,
   "id": "8a2ca429-5078-4e89-8b62-238b63fff10a",
   "metadata": {},
   "outputs": [],
   "source": []
  },
  {
   "cell_type": "code",
   "execution_count": null,
   "id": "e89d8e3c-b11f-423f-adba-d5baa038f466",
   "metadata": {},
   "outputs": [],
   "source": []
  },
  {
   "cell_type": "code",
   "execution_count": null,
   "id": "8fca3135-cee4-435d-a238-6a5efc4966a1",
   "metadata": {},
   "outputs": [],
   "source": [
    "def plot_class_distribution(df, label):\n",
    "    c = ['Grey', 'Red']\n",
    "    df.groupby('MF').size().plot(kind=\"bar\", color=c)\n",
    "    plt.title('Class Distribution', fontsize=18)\n",
    "    plt.yticks(np.arange(0, 12000, 2000))\n",
    "    # plt.grid()\n",
    "\n",
    "    for index, value in enumerate(df.groupby(label).size()):\n",
    "        c_label = ''\n",
    "        if index == 0:\n",
    "            c_label = 'Black'\n",
    "        else:\n",
    "            c_label = 'Red'\n",
    "        plt.text(index - 0.1, value + 1000, str(value), color=c_label, fontsize=14)\n",
    "\n",
    "    sns.despine()"
   ]
  },
  {
   "cell_type": "code",
   "execution_count": null,
   "id": "bcbffe66-511c-4a6e-81b5-8d302ac362e3",
   "metadata": {},
   "outputs": [],
   "source": [
    "plot_class_distribution(df, 'MF')"
   ]
  },
  {
   "cell_type": "code",
   "execution_count": null,
   "id": "50bd380c-25fe-4064-a83a-b4dae2b026f6",
   "metadata": {},
   "outputs": [],
   "source": [
    "import math\n",
    "\n",
    "def plot_scatter_features(df):\n",
    "    col = 5\n",
    "    row = math.ceil(int(len(df.columns))/5)\n",
    "    color_map = {0:'grey', 1:'red'}\n",
    "    \n",
    "    fig, axs = plt.subplots(row, col, sharex=True, figsize=(col*3.5,row*1.75), tight_layout=True)\n",
    "\n",
    "    axs = axs.ravel()\n",
    "    \n",
    "    for idx, col in enumerate(df.columns):\n",
    "        sns.scatterplot(ax=axs[idx], x=range(df.shape[0]), y=df[col], c=df['MF'].map(color_map),  alpha=0.3 )\n",
    "    \n",
    "    sns.despine()"
   ]
  },
  {
   "cell_type": "code",
   "execution_count": null,
   "id": "1a808ba9-f860-4ca8-9e1a-21eee92d0c64",
   "metadata": {},
   "outputs": [],
   "source": []
  },
  {
   "cell_type": "code",
   "execution_count": null,
   "id": "8b7aa84f-0f50-4b7d-9424-7a060181304c",
   "metadata": {},
   "outputs": [],
   "source": [
    "df.head(2)"
   ]
  },
  {
   "cell_type": "code",
   "execution_count": null,
   "id": "3fac31bd-9025-46a2-be70-55d1263daae2",
   "metadata": {},
   "outputs": [],
   "source": [
    "df_plot = df.drop(['Product ID'], axis=1)"
   ]
  },
  {
   "cell_type": "code",
   "execution_count": null,
   "id": "73c34b47-c0a7-4566-9693-de12376dc55f",
   "metadata": {},
   "outputs": [],
   "source": [
    "plot_scatter_features(df_plot)"
   ]
  },
  {
   "cell_type": "code",
   "execution_count": null,
   "id": "47be7cb7-8e33-4ab7-bbee-dc293a1f1360",
   "metadata": {},
   "outputs": [],
   "source": [
    "import math\n",
    "\n",
    "def plot_boxplot_features(df, label):\n",
    "    col = 5\n",
    "    row = math.ceil(int(len(df.columns))/5)\n",
    "    color_map = {0:'grey', 1:'red'}\n",
    "    \n",
    "    fig, axs = plt.subplots(row, col, sharex=True, figsize=(col*3.5,row*1.75), tight_layout=True)\n",
    "\n",
    "    axs = axs.ravel()\n",
    "    \n",
    "    for idx, col in enumerate(df.columns):\n",
    "        sns.boxplot(ax=axs[idx], x=label, y=col, data=df)\n",
    "    \n",
    "    sns.despine()"
   ]
  },
  {
   "cell_type": "code",
   "execution_count": null,
   "id": "e76d8b41-99a4-4de3-b563-6643e6c0522c",
   "metadata": {},
   "outputs": [],
   "source": [
    "df_box_plot = df_plot.drop(['Type', 'UDI'], axis=1)\n",
    "df_box_plot.head(2)"
   ]
  },
  {
   "cell_type": "code",
   "execution_count": null,
   "id": "78659c2f-da30-4d66-be94-27617d2ceeb2",
   "metadata": {},
   "outputs": [],
   "source": [
    "plot_boxplot_features(df_box_plot, 'MF')"
   ]
  },
  {
   "cell_type": "code",
   "execution_count": null,
   "id": "7abc45a0-f2e7-4c0e-b9dd-b225f25c26aa",
   "metadata": {},
   "outputs": [],
   "source": [
    "import math\n",
    "\n",
    "def plot_line_features(df, label):\n",
    "    col = 5\n",
    "    row = math.ceil(int(len(df.columns))/5)\n",
    "    color_map = {0:'grey', 1:'red'}\n",
    "    \n",
    "    fig, axs = plt.subplots(row, col, sharex=True, figsize=(col*3.5,row*1.75), tight_layout=True)\n",
    "\n",
    "    axs = axs.ravel()\n",
    "    \n",
    "    for idx, col in enumerate(df.columns):\n",
    "        sns.lineplot(ax=axs[idx], x=range(df.shape[0]), y=df[col],color='cornflowerblue',  alpha=1 )\n",
    "    \n",
    "    sns.despine()"
   ]
  },
  {
   "cell_type": "code",
   "execution_count": null,
   "id": "d7e0499d-d899-498a-ac11-ac5afb82ed29",
   "metadata": {},
   "outputs": [],
   "source": [
    "plot_line_features(df_box_plot, 'MF')"
   ]
  },
  {
   "cell_type": "code",
   "execution_count": null,
   "id": "1b590d73-e62a-4766-b317-652d3f8fdfa4",
   "metadata": {},
   "outputs": [],
   "source": [
    "df.describe()"
   ]
  },
  {
   "cell_type": "code",
   "execution_count": null,
   "id": "33dd474b-90fe-4c3c-9ed3-7e10cb586594",
   "metadata": {},
   "outputs": [],
   "source": [
    "def get_moving_average(df, window_size=10):\n",
    "    windows = df.rolling(window_size)\n",
    "    moving_average = windows.mean()\n",
    "    moving_averages_list = moving_average.tolist()\n",
    "    final_list = moving_averages_list[window_size - 1:]\n",
    "    \n",
    "    return(final_list)"
   ]
  },
  {
   "cell_type": "code",
   "execution_count": null,
   "id": "33a5b7f1-751c-4af7-8a97-233369286cd9",
   "metadata": {},
   "outputs": [],
   "source": [
    "def plot_feature_class(df, feautures, label, window_size=10):\n",
    "    fig, ax = plt.subplots(len(feautures)+1, 1, figsize=(42,15))\n",
    "    sns.lineplot(ax=ax[0], x=range(df.shape[0]), y=label, data=df, alpha=0.5, color='red' )\n",
    "    \n",
    "    \n",
    "    for idx, feature in enumerate(feautures):\n",
    "        sns.lineplot(ax=ax[idx+1], x=range(df.shape[0]), y=feautures[idx], data=df, alpha=0.5 )\n",
    "        sns.lineplot(ax=ax[idx+1], x=range(window_size-1, df.shape[0]), y=get_moving_average(df[feature], window_size), alpha=0.5 )\n",
    "        sns.lineplot(ax=ax[idx+1], x=range(0, df.shape[0]), y=[df[feature].mean() for i in range(df.shape[0])], alpha=0.2 )\n",
    "        sns.lineplot(ax=ax[idx+1], x=range(0, df.shape[0]), y=[df[feature].mean() + df[feature].std() for i in range(df.shape[0])], alpha=0.2 )\n",
    "        sns.lineplot(ax=ax[idx+1], x=range(0, df.shape[0]), y=[df[feature].mean() - df[feature].std() for i in range(df.shape[0])], alpha=0.2 )\n",
    "        sns.lineplot(ax=ax[idx+1], x=range(0, df.shape[0]), y=[df[feature].mean() + (2 * df[feature].std()) for i in range(df.shape[0])], alpha=0.2 )\n",
    "        sns.lineplot(ax=ax[idx+1], x=range(0, df.shape[0]), y=[df[feature].mean() - (2 * df[feature].std()) for i in range(df.shape[0])], alpha=0.2 )\n",
    "        sns.lineplot(ax=ax[idx+1], x=range(0, df.shape[0]), y=[df[feature].mean() + (3 * df[feature].std()) for i in range(df.shape[0])], alpha=0.2 )\n",
    "        sns.lineplot(ax=ax[idx+1], x=range(0, df.shape[0]), y=[df[feature].mean() - (3 * df[feature].std()) for i in range(df.shape[0])], alpha=0.2 )"
   ]
  },
  {
   "cell_type": "code",
   "execution_count": null,
   "id": "5fec30a4-00e5-4e75-8380-45630584faa0",
   "metadata": {},
   "outputs": [],
   "source": [
    "df.head(2)"
   ]
  },
  {
   "cell_type": "code",
   "execution_count": null,
   "id": "783ccb35-8bba-44d2-975a-5be9a1121f54",
   "metadata": {},
   "outputs": [],
   "source": [
    "df['Power'] = df['Torque'] * df['RotationalSpeed']"
   ]
  },
  {
   "cell_type": "code",
   "execution_count": null,
   "id": "3d03be2d-7fba-4b4c-a8e7-9cc6083bbe19",
   "metadata": {},
   "outputs": [],
   "source": [
    "df['Power']"
   ]
  },
  {
   "cell_type": "code",
   "execution_count": null,
   "id": "c16fa711-31c4-456c-8696-e63df32de2dd",
   "metadata": {},
   "outputs": [],
   "source": [
    "\n",
    "df_plot = df[500:1000]\n",
    "plot_feature_class(df_plot, ['Power','Torque', 'RotationalSpeed'],'PWF')"
   ]
  },
  {
   "cell_type": "code",
   "execution_count": null,
   "id": "def28a52-3339-43e1-8716-a6e3146523e8",
   "metadata": {},
   "outputs": [],
   "source": []
  },
  {
   "cell_type": "code",
   "execution_count": null,
   "id": "300a17b2-82e3-4877-80a7-72e7635c0afd",
   "metadata": {},
   "outputs": [],
   "source": [
    "df_feature_scale = MlHelper.scale_data(df_feature, scaler_type.normalizer)\n",
    "df_scale =  pd.concat([pd.DataFrame(data=df['MF']), pd.DataFrame(data=df['TWF']),pd.DataFrame(data=df['HDF']),pd.DataFrame(data=df['PWF']),pd.DataFrame(data=df['OSF']),pd.DataFrame(data=df['RNF']), pd.DataFrame(data=df_feature_scale)], axis=1, sort=False )\n",
    "columns = ['MF', 'TWF', 'HDF', 'PWF', 'OSF', 'RNF', 'AirTemp', 'ProcessTemp', 'RotationalSpeed', 'Torque', 'ToolWear']\n",
    "df_scale.columns = columns\n",
    "df_scale.head(2)"
   ]
  },
  {
   "cell_type": "code",
   "execution_count": null,
   "id": "50fc47ec-9b97-44f3-99b4-462004aaf8cd",
   "metadata": {},
   "outputs": [],
   "source": [
    "df_scale['Tor-Rot'] = df_scale['Torque'] - df_scale['RotationalSpeed']\n",
    "df_scale.head(2)"
   ]
  },
  {
   "cell_type": "code",
   "execution_count": null,
   "id": "da3fe5c0-e039-4930-849e-4bf5658cb407",
   "metadata": {},
   "outputs": [],
   "source": [
    "df.columns"
   ]
  },
  {
   "cell_type": "code",
   "execution_count": null,
   "id": "712b34d4-8a81-4390-8dbc-ce7e4b8da8f4",
   "metadata": {},
   "outputs": [],
   "source": [
    "df_1000 = df.iloc[4000:6000,:]"
   ]
  },
  {
   "cell_type": "code",
   "execution_count": null,
   "id": "c50b0821-8598-44c0-9aa1-b56093abd6f8",
   "metadata": {},
   "outputs": [],
   "source": [
    "df_twf_failed = df[df['TWF']==1]\n",
    "toolwear = df_twf_failed['ToolWear']"
   ]
  },
  {
   "cell_type": "code",
   "execution_count": null,
   "id": "a02566d3-fe76-4c4e-a9cd-557928b648f2",
   "metadata": {},
   "outputs": [],
   "source": [
    "df_check = df[df['ToolWear'] >= 217.85]"
   ]
  },
  {
   "cell_type": "code",
   "execution_count": null,
   "id": "ed0427bf-5cff-4977-83c0-66cf8f31339b",
   "metadata": {},
   "outputs": [],
   "source": [
    "df_check['TWF'].sum()"
   ]
  },
  {
   "cell_type": "code",
   "execution_count": null,
   "id": "6d5ef143-6131-4157-9a74-416869b04725",
   "metadata": {},
   "outputs": [],
   "source": [
    "plot_feature_class(df_1000, ['ToolWear','RotationalSpeed','Torque','AirTemp','ProcessTemp'], 'TWF', 10)"
   ]
  },
  {
   "cell_type": "markdown",
   "id": "2b32f716-07db-4331-a788-6488105b71d0",
   "metadata": {},
   "source": [
    "# Genetic Algorithms to find the prediction pattern"
   ]
  },
  {
   "cell_type": "markdown",
   "id": "a1959812-00b0-4f62-893e-52b16e51f251",
   "metadata": {},
   "source": [
    "## encoder function"
   ]
  },
  {
   "cell_type": "code",
   "execution_count": null,
   "id": "f7a939f5-1526-4b8b-9e1c-83d89b987c0f",
   "metadata": {},
   "outputs": [],
   "source": [
    "# This function use to encode data point to be class label\n",
    "# a = data less than or equal percentile 25\n",
    "# b = data less than or equal percentile 50\n",
    "# c = data less than or equal percentile 75\n",
    "# d = data greater than percentile 75\n",
    "\n",
    "def encode_feature(df):\n",
    "    \n",
    "    mean = np.mean(df)\n",
    "    std = np.std(df)\n",
    "    \n",
    "    encoder_list = []\n",
    "    \n",
    "    for data_point in df:\n",
    "        \n",
    "        if data_point <= (mean - (3*std)):\n",
    "            encoder_list.append('a')\n",
    "            continue\n",
    "        \n",
    "        if data_point <= (mean - (2*std)):\n",
    "            encoder_list.append('b')\n",
    "            continue\n",
    "            \n",
    "        if data_point <= (mean - (1*std)):\n",
    "            encoder_list.append('c')\n",
    "            continue\n",
    "            \n",
    "        if data_point <= mean:\n",
    "            encoder_list.append('d')\n",
    "            continue\n",
    "            \n",
    "        if data_point <= (mean + (1*std)):\n",
    "            encoder_list.append('e')\n",
    "            continue\n",
    "            \n",
    "        if data_point <= (mean + (2*std)):\n",
    "            encoder_list.append('f')\n",
    "            continue       \n",
    "                        \n",
    "        encoder_list.append('g')\n",
    "\n",
    "    return encoder_list"
   ]
  },
  {
   "cell_type": "code",
   "execution_count": null,
   "id": "62edcb61-acab-454c-b8f7-9e77a399945e",
   "metadata": {},
   "outputs": [],
   "source": [
    "df_torque = df['Torque']\n",
    "test_encoder = encode_feature(df_torque)\n",
    "test_encoder[:10]"
   ]
  },
  {
   "cell_type": "markdown",
   "id": "cc82ccb6-458d-4ffd-bda6-e140628d6dce",
   "metadata": {},
   "source": [
    "### Generate the random genome by specific length"
   ]
  },
  {
   "cell_type": "code",
   "execution_count": null,
   "id": "fe1175c2-b169-4561-9925-4b29a928451b",
   "metadata": {},
   "outputs": [],
   "source": [
    "def generate_genome(length:int):\n",
    "    \n",
    "    genome = []\n",
    "    previous_gene = ''\n",
    "    or_logic = False\n",
    "    count_or = 0\n",
    "    \n",
    "    for i in range(length):\n",
    "        \n",
    "        # First character should not be symbol\n",
    "        if i == 0:\n",
    "            next_gene = choices(['a','b','c','d','e','f','g'], k=1)\n",
    "            genome = genome + next_gene\n",
    "            previous_gene = next_gene\n",
    "            continue\n",
    "            \n",
    "        # Last character should not be symbol\n",
    "        if i == (length-1):\n",
    "            next_gene = choices(['a','b','c','d','e','f','g'], k=1)\n",
    "            genome = genome + next_gene\n",
    "            previous_gene = next_gene\n",
    "            continue\n",
    "            \n",
    "        # If previous character is symbol then next character should not be symbol\n",
    "        if previous_gene[0] == '.*' or previous_gene[0] == '|':\n",
    "            next_gene = choices(['a','b','c','d','e','f','g'], k=1)\n",
    "            genome = genome + next_gene\n",
    "            \n",
    "            if previous_gene[0] == '|':\n",
    "                or_logic = True\n",
    "                count_or = 2\n",
    "                \n",
    "            previous_gene = next_gene\n",
    "            continue\n",
    "                \n",
    "        if count_or > 0:\n",
    "            next_gene = choices(['a','b','c','d','e','f','g'], k=1)\n",
    "            genome = genome + next_gene\n",
    "            previous_gene = next_gene\n",
    "            count_or = count_or - 1\n",
    "            continue\n",
    "        \n",
    "        next_gene = choices(['a','b','c','d','e','f','g','.*','|'], k=1)            \n",
    "        genome = genome + next_gene\n",
    "        previous_gene = next_gene\n",
    "    \n",
    "    return genome"
   ]
  },
  {
   "cell_type": "code",
   "execution_count": null,
   "id": "db49890d-b34e-429a-88b3-77e1056d1e5a",
   "metadata": {},
   "outputs": [],
   "source": [
    "test_genome = generate_genome(10)\n",
    "test_genome"
   ]
  },
  {
   "cell_type": "markdown",
   "id": "128bdbf8-6289-4cd4-a484-28c861e60564",
   "metadata": {},
   "source": [
    "### Generate the population"
   ]
  },
  {
   "cell_type": "code",
   "execution_count": null,
   "id": "fc3a6bc1-24da-4d4f-887d-2d08338b0487",
   "metadata": {},
   "outputs": [],
   "source": [
    "def generate_population(size, genome_lenght):\n",
    "    return [generate_genome(genome_lenght) for _ in range(size)]"
   ]
  },
  {
   "cell_type": "code",
   "execution_count": null,
   "id": "f6c546b4-fd2a-4ad9-960c-09435c9c9ec1",
   "metadata": {},
   "outputs": [],
   "source": [
    "test_population = generate_population(3, 5)\n",
    "test_population"
   ]
  },
  {
   "cell_type": "markdown",
   "id": "99f381e7-b58f-4b5c-ab74-38f427bbed1a",
   "metadata": {},
   "source": [
    "### Get expression"
   ]
  },
  {
   "cell_type": "code",
   "execution_count": null,
   "id": "bf0664d2-3a65-430a-9783-f54d4389642c",
   "metadata": {},
   "outputs": [],
   "source": [
    "def get_expression(data):\n",
    "    \n",
    "    reg_result = \"\"\n",
    "    or_flag = False\n",
    "    \n",
    "    for idx, i in enumerate(data):\n",
    "        \n",
    "        if i == '|' and reg_result == \"\":\n",
    "            raise Exception(\"The symbol '|' can't be the first parameter\")\n",
    "            \n",
    "        if i == '|' and (idx + 1) == len(data):\n",
    "             raise Exception(\"The symbol '|' can't be the last parameter\")\n",
    "        \n",
    "        if i in ('a', 'b', 'c', 'd','e','f','g','.*') and or_flag == False:\n",
    "            reg_result = reg_result + i\n",
    "            buf = i\n",
    "            continue\n",
    "        \n",
    "        if i in ('a', 'b', 'c', 'd','e','f','g','.*') and or_flag == True:\n",
    "            reg_result = reg_result + f\"{i}]\"\n",
    "            or_flag = False\n",
    "            continue\n",
    "            \n",
    "        if or_flag == True and (i == '|' or i == '.*'):\n",
    "            reg_result = reg_result + 'd'\n",
    "            continue\n",
    "            \n",
    "        if i == '|':\n",
    "            reg_result = reg_result[0:(len(reg_result)- len(buf))]\n",
    "            reg_result = reg_result + f\"[{buf}|\"\n",
    "            or_flag = True\n",
    "            continue\n",
    " \n",
    "    return reg_result"
   ]
  },
  {
   "cell_type": "code",
   "execution_count": null,
   "id": "a7cdd5a6-2022-49b8-8bf5-ec978ccb685a",
   "metadata": {},
   "outputs": [],
   "source": [
    "test_expression = get_expression(test_genome)\n",
    "\n",
    "print(test_genome)\n",
    "print(test_expression)"
   ]
  },
  {
   "cell_type": "markdown",
   "id": "9e876b90-13d5-4c38-856f-5b377c0ed264",
   "metadata": {},
   "source": [
    "### Get the pattern"
   ]
  },
  {
   "cell_type": "code",
   "execution_count": null,
   "id": "ee6656bd-f41b-4265-9e63-49649b8396c1",
   "metadata": {},
   "outputs": [],
   "source": [
    "def find_pattern(encoder_result, df_state, window_size=20):\n",
    "    \n",
    "    # variable setting\n",
    "    start = 0\n",
    "    end = window_size\n",
    "    \n",
    "    number_round = int(len(encoder_result)/window_size)\n",
    "\n",
    "    pattern_list = []\n",
    "    \n",
    "    for i in range(0, number_round):\n",
    "        # Find the next period will have the fail case or not\n",
    "        fail_next_period = list(df_state[end:end+window_size])\n",
    "        is_fail_next_period = sum(fail_next_period)>0\n",
    "        \n",
    "        if is_fail_next_period == True:\n",
    "            current_pattern = ''.join(encoder_result[start:end])\n",
    "            pattern_list.append(current_pattern)\n",
    "            \n",
    "        start += window_size\n",
    "        end += window_size\n",
    "\n",
    "    return pattern_list\n",
    "    "
   ]
  },
  {
   "cell_type": "code",
   "execution_count": null,
   "id": "65334d4e-cc47-4be9-804d-a3b7f997d769",
   "metadata": {},
   "outputs": [],
   "source": [
    "df_torque = df['Torque']\n",
    "encode_torque = encode_feature(df_torque)"
   ]
  },
  {
   "cell_type": "code",
   "execution_count": null,
   "id": "bdcfddc5-2a47-4236-91dc-a90706288c57",
   "metadata": {},
   "outputs": [],
   "source": [
    "df_PWF = df['PWF']"
   ]
  },
  {
   "cell_type": "code",
   "execution_count": null,
   "id": "9a4c0bb9-4bc1-4974-866a-d9d7362c6a7a",
   "metadata": {},
   "outputs": [],
   "source": [
    "expected_pattern = find_pattern(encode_torque, df_PWF)"
   ]
  },
  {
   "cell_type": "code",
   "execution_count": null,
   "id": "807220b2-f8bb-4980-b132-e5c7889ed64b",
   "metadata": {},
   "outputs": [],
   "source": [
    "print('a b c d e f')\n",
    "for i in expected_pattern:\n",
    "    print(i.count('a') + i.count('b') + i.count('c'), i.count('e') + i.count('f'))"
   ]
  },
  {
   "cell_type": "code",
   "execution_count": null,
   "id": "b30aab07-8825-4277-87d1-049901855ab7",
   "metadata": {},
   "outputs": [],
   "source": [
    "def test_pattern(encoder_result, df_state, window_size=20):\n",
    "    # variable setting\n",
    "    start = 0\n",
    "    end = window_size\n",
    "    \n",
    "    number_round = int(len(encoder_result)/window_size)\n",
    "\n",
    "    pattern_list = []\n",
    "    \n",
    "    TP = 0\n",
    "    FP = 0\n",
    "    TN = 0\n",
    "    FN = 0\n",
    "    \n",
    "    for i in range(0, number_round):\n",
    "        \n",
    "        current_pattern = ''.join(encoder_result[start:end])\n",
    "        \n",
    "        if current_pattern.count('f') + current_pattern.count('e') >= 13:\n",
    "            predict_fail = True\n",
    "        else:\n",
    "            predict_fail = False\n",
    "        \n",
    "        # Find the next period will have the fail case or not\n",
    "        fail_next_period = list(df_state[end:end+window_size])\n",
    "        is_fail_next_period = sum(fail_next_period)>0\n",
    "        \n",
    "        if is_fail_next_period == True:\n",
    "            current_pattern = ''.join(encoder_result[start:end])\n",
    "            pattern_list.append(current_pattern)\n",
    "            \n",
    "        # Calculate Fitness Score\n",
    "        if  predict_fail == True and is_fail_next_period == True:\n",
    "            TP += 1\n",
    "            \n",
    "        if predict_fail == True and is_fail_next_period == False:\n",
    "            FP += 1\n",
    "            \n",
    "        if predict_fail == False and is_fail_next_period == False:\n",
    "            TN += 1\n",
    "            \n",
    "        if predict_fail == False and is_fail_next_period == True:\n",
    "            FN += 1\n",
    "            \n",
    "        start += window_size\n",
    "        end += window_size\n",
    "\n",
    "    print(f'TP:{TP}, FP:{FP}, TN:{TN}, FN:{FN}')\n",
    "    \n",
    "    return True"
   ]
  },
  {
   "cell_type": "code",
   "execution_count": null,
   "id": "53904301-319d-436b-b9f4-a4907b89e05d",
   "metadata": {},
   "outputs": [],
   "source": [
    "test_pattern(encode_torque, df_PWF)"
   ]
  },
  {
   "cell_type": "markdown",
   "id": "6fb3bad2-1667-4c2d-88e5-472240f822d4",
   "metadata": {},
   "source": [
    "### Calculate the fitness score"
   ]
  },
  {
   "cell_type": "code",
   "execution_count": null,
   "id": "b13ed02c-1d4a-40c4-af07-f0d4e1be89ba",
   "metadata": {},
   "outputs": [],
   "source": [
    "def fitness(genome, encoder_result, df_state, window_size=20, is_print_counting = False):\n",
    "    \n",
    "    # variable setting\n",
    "    fitness_score = 0\n",
    "    start = 0\n",
    "    end = window_size\n",
    "    number_round = int(len(encoder_result)/window_size)-1\n",
    "    has_match_pattern = False\n",
    "    \n",
    "    TP = 0\n",
    "    FP = 0\n",
    "    TN = 0\n",
    "    FN = 0\n",
    "    \n",
    "    # Get reg function from genome\n",
    "    reg_expression = get_expression(genome)\n",
    "    use_reg_expression = '.*' + reg_expression + '.*'\n",
    "    \n",
    "    # Counting\n",
    "    count_predict_true = 0\n",
    "    count_predict_false = 0\n",
    "    count_not_match = 0\n",
    "    \n",
    "    predict_list = []\n",
    "    \n",
    "    # Iterate over the data by specific period\n",
    "    for i in range(0, number_round):\n",
    "        \n",
    "        # Predict the next period by pattern of the current period\n",
    "        current_pattern = ''.join(encoder_result[start:end])\n",
    "        matched = re.search(use_reg_expression, current_pattern)\n",
    "        \n",
    "        #print(f'pattern {current_pattern} with reg {reg_expression} is match {matched}')\n",
    "        \n",
    "        if matched is not None:\n",
    "            predict_fail = True\n",
    "            \n",
    "            if has_match_pattern == False:\n",
    "                has_match_pattern = True\n",
    "        else:\n",
    "            predict_fail = False\n",
    "        \n",
    "        # Find the next period will have the fail case or not\n",
    "        fail_next_period = list(df_state[end:end+window_size])\n",
    "        is_fail_next_period = sum(fail_next_period)>0\n",
    "    \n",
    "        # Calculate Fitness Score\n",
    "        if  predict_fail == True and is_fail_next_period == True:\n",
    "            TP += 1\n",
    "            \n",
    "        if predict_fail == True and is_fail_next_period == False:\n",
    "            FP += 1\n",
    "            \n",
    "        if predict_fail == False and is_fail_next_period == False:\n",
    "            TN += 1\n",
    "            \n",
    "        if predict_fail == False and is_fail_next_period == True:\n",
    "            FN += 1\n",
    "            \n",
    "            \n",
    "\n",
    "        start += window_size\n",
    "        end += window_size\n",
    "        \n",
    "    if (TP+FN) == 0:\n",
    "        recall = 0\n",
    "    else:\n",
    "        recall = TP/(TP + FN)\n",
    "    \n",
    "    if (TP+FP) == 0:\n",
    "        precision = 0\n",
    "    else:\n",
    "        precision = TP/(TP+FP)\n",
    "    \n",
    "    if (precision+recall) == 0:\n",
    "        fitness_score = 0\n",
    "    else:\n",
    "        fitness_score = 2 * ((precision * recall)/(precision+recall))\n",
    "    \n",
    "    if is_print_counting == True:\n",
    "        print(f'Count True: {count_predict_true}, False: {count_predict_false}, Not match: {count_not_match}')\n",
    "    \n",
    "    return(fitness_score)"
   ]
  },
  {
   "cell_type": "code",
   "execution_count": null,
   "id": "27a710dc-1db8-4cf0-b46a-b1c99b9dea79",
   "metadata": {},
   "outputs": [],
   "source": [
    "df_PWF = df['PWF']\n",
    "df_torque = df['Torque']\n",
    "encode_torque = encode_feature(df_torque)"
   ]
  },
  {
   "cell_type": "code",
   "execution_count": null,
   "id": "4ecb0a01-617d-4a21-a242-b7afb445d3dc",
   "metadata": {},
   "outputs": [],
   "source": [
    "test_genome = generate_genome(5)\n",
    "\n",
    "score = fitness(test_genome, encode_torque, df_PWF, 40)\n",
    "print(score)"
   ]
  },
  {
   "cell_type": "markdown",
   "id": "9bf978e5-5080-46f7-bcef-c4d8fa94a618",
   "metadata": {},
   "source": [
    "### Selection Pair"
   ]
  },
  {
   "cell_type": "code",
   "execution_count": null,
   "id": "51de8972-0c69-4049-91c8-aa75f30772b1",
   "metadata": {},
   "outputs": [],
   "source": [
    "def selection_pair(population, weights, number=10):\n",
    "    return choices(\n",
    "        population=population,\n",
    "        weights= weights,\n",
    "        k=number\n",
    "    )"
   ]
  },
  {
   "cell_type": "code",
   "execution_count": null,
   "id": "55485b7c-12c5-481f-85b5-04d4e0e1862f",
   "metadata": {},
   "outputs": [],
   "source": [
    "weights = [1, 0, 0]\n",
    "selected_genome = selection_pair(test_population, weights)\n",
    "selected_genome"
   ]
  },
  {
   "cell_type": "markdown",
   "id": "5f68b089-afa1-47fc-8e5d-de7541bfe72c",
   "metadata": {},
   "source": [
    "### Cross Over"
   ]
  },
  {
   "cell_type": "code",
   "execution_count": null,
   "id": "010c6d8e-9277-4118-bc21-764526c8a54a",
   "metadata": {},
   "outputs": [],
   "source": [
    "def single_point_cross_over(genome1, genome2):\n",
    "    if len(genome1) != len(genome2):\n",
    "        print(genome1)\n",
    "        print(genome2)\n",
    "        raise ValueError(\"Genomes 1 and 2 must be of same length\")\n",
    "        \n",
    "    length = len(genome1)\n",
    "    \n",
    "    if length < 2:\n",
    "        return genome1, genome2\n",
    "    \n",
    "    position = randint(1, length-1)\n",
    "    return genome1[0:position] + genome2[position:], genome2[0:position] + genome1[position:]"
   ]
  },
  {
   "cell_type": "code",
   "execution_count": null,
   "id": "2e514692-37aa-40bd-8d33-9837365b1c58",
   "metadata": {},
   "outputs": [],
   "source": [
    "test_genome1 = [1, 2, 3, 4, 5, 6, 7 ,8, 9 , 10]\n",
    "test_genome2 = [10, 9 , 8, 7, 6, 5, 4, 3, 2, 1]\n",
    "\n",
    "test_genome11, test_genome21 = single_point_cross_over(test_genome1, test_genome2)\n",
    "print(test_genome11)\n",
    "print(test_genome21)"
   ]
  },
  {
   "cell_type": "markdown",
   "id": "f368a4ac-62b1-4d71-95e4-297ef601a4d1",
   "metadata": {},
   "source": [
    "### Mutation"
   ]
  },
  {
   "cell_type": "code",
   "execution_count": null,
   "id": "505343d8-8cb5-4e7d-a9cc-a69fa530c9a7",
   "metadata": {},
   "outputs": [],
   "source": [
    "def mutation(genome, number=1):\n",
    "    for _ in range(number):\n",
    "        index = randrange(len(genome))\n",
    "        genome[index] = choices(['a','b','c','d'], k=1)[0]\n",
    "        \n",
    "        return genome"
   ]
  },
  {
   "cell_type": "code",
   "execution_count": null,
   "id": "97e5541e-9cdd-4365-ab2c-f9230ff8211d",
   "metadata": {},
   "outputs": [],
   "source": [
    "test_genome3 = [1, 2, 3, 4, 5, 6, 7 ,8, 9 , 10]\n",
    "new = mutation(test_genome3)\n",
    "new"
   ]
  },
  {
   "cell_type": "markdown",
   "id": "fb49f135-4be4-480e-b2aa-91c56cccd626",
   "metadata": {},
   "source": [
    "### Evolution"
   ]
  },
  {
   "cell_type": "code",
   "execution_count": null,
   "id": "db730ab6-0da8-41f2-9a45-f0ac978e3bcd",
   "metadata": {},
   "outputs": [],
   "source": [
    "def run_evolution(initial_population, encoder_feature, df_state, generation_limit=100):\n",
    "    \n",
    "    # Parameter setting\n",
    "    pop_crossover_threshold = 0.80\n",
    "    pop_mutation_threshold = 0.02\n",
    "    \n",
    "    population = initial_population\n",
    "    \n",
    "    for i in range(generation_limit):\n",
    "        \n",
    "        # 1. Calculate fitness score for all population\n",
    "        fitness_scores = [fitness(genome, encoder_feature, df_state,20, False) for genome in population]\n",
    "\n",
    "        max_score = max(fitness_scores)\n",
    "        \n",
    "        #if i in (1000, 2000, 3000, 4000, 5000, 6000, 7000, 8000, 9000, 10000):\n",
    "        print(f'round {i} has max score {max_score}.')  #The whole score list {fitness_scores}')\n",
    "\n",
    "        # 2. Evaluation\n",
    "        if max_score >= 10:\n",
    "            population_and_score = list(zip(score, population))\n",
    "            sorted_population_and_score = population_and_score.sort(reverse=True)\n",
    "            top_population = sorted_population_and_score[0]\n",
    "            print(f\"The best population is {top_population[1]} with score {top_population[0]}\")\n",
    "            break\n",
    "\n",
    "        # 3. Select new population\n",
    "        adjust_score = [i for i in fitness_scores]\n",
    "        weight_selection = [i/sum(adjust_score) for i in adjust_score] # Weight for random new population\n",
    "        new_population = selection_pair(population, weight_selection, 10)\n",
    "        \n",
    "        # 4. Crossover\n",
    "        pop_crossover = uniform(0, 1)\n",
    "\n",
    "        if pop_crossover <= pop_crossover_threshold:\n",
    "            \n",
    "            offspring1, offspring2 = single_point_cross_over(new_population[0], new_population[1])\n",
    "            offspring3, offspring4 = single_point_cross_over(new_population[2], new_population[3])\n",
    "            offspring5, offspring6 = single_point_cross_over(new_population[4], new_population[5])\n",
    "            offspring7, offspring8 = single_point_cross_over(new_population[6], new_population[7])\n",
    "            offspring9, offspring10 = single_point_cross_over(new_population[8], new_population[9])\n",
    "\n",
    "            new_population = [offspring1, offspring2, offspring3, offspring4, offspring5, offspring6, offspring7, offspring8, offspring9, offspring10]\n",
    "    \n",
    "        # 5. Mutation\n",
    "        for idx, genome in enumerate(new_population):\n",
    "            pop_mutation = uniform(0, 1)\n",
    "            if pop_mutation <= pop_mutation_threshold: \n",
    "                new_population[idx] = mutation(genome)\n",
    "        \n",
    "        population = new_population\n",
    "        \n",
    "        # 6. Exist loop when exceed the generation_limit\n",
    "        if i == generation_limit - 1:\n",
    "            fitness_scores = [fitness(genome, encoder_feature, df_PWF) for genome in population]\n",
    "            population_and_score = list(zip(fitness_scores, population))\n",
    "            population_and_score.sort(reverse=True)\n",
    "            top_population = population_and_score[0]\n",
    "            print(f\"Last round the best population is {top_population[1]} with score {top_population[0]}\")\n",
    "            \n",
    "    return(fitness_scores)\n",
    "        "
   ]
  },
  {
   "cell_type": "code",
   "execution_count": null,
   "id": "27dd7495-38a1-488a-96a6-a0c8dbe5b854",
   "metadata": {},
   "outputs": [],
   "source": [
    "df_feature = df_scale['Tor-Rot']\n",
    "feature_encoded = encode_feature(df_feature) "
   ]
  },
  {
   "cell_type": "code",
   "execution_count": null,
   "id": "bce41012-1444-429f-9759-82ac2d2dac12",
   "metadata": {},
   "outputs": [],
   "source": [
    "df_PWF = df['PWF']"
   ]
  },
  {
   "cell_type": "code",
   "execution_count": null,
   "id": "dda502b1-5727-4756-8084-b5fe966156c3",
   "metadata": {},
   "outputs": [],
   "source": [
    "population = generate_population(10, 5)\n",
    "\n",
    "score = run_evolution(population, encode_torque, df_PWF, 20000)"
   ]
  },
  {
   "cell_type": "code",
   "execution_count": null,
   "id": "167dad97-973c-4e03-b5ac-85455687d562",
   "metadata": {},
   "outputs": [],
   "source": [
    "a = ['A', 'B', 'C']\n",
    "b = [3, 2, 1]\n",
    "\n",
    "result = zip(b, a)\n",
    "c =list(result)"
   ]
  },
  {
   "cell_type": "code",
   "execution_count": null,
   "id": "822ba5b7-8f25-47d2-a798-6d8c6cee3bcc",
   "metadata": {},
   "outputs": [],
   "source": [
    "c"
   ]
  },
  {
   "cell_type": "code",
   "execution_count": null,
   "id": "159546a2-8200-4f48-8d7f-ca1c1c8dec6a",
   "metadata": {},
   "outputs": [],
   "source": [
    "c.sort(reverse=False)\n",
    "c"
   ]
  },
  {
   "cell_type": "code",
   "execution_count": null,
   "id": "6966591b-cae5-411d-8ba4-3b93c18941d5",
   "metadata": {},
   "outputs": [],
   "source": [
    "c[0][1]"
   ]
  },
  {
   "cell_type": "code",
   "execution_count": null,
   "id": "c88419a6-1495-48e8-b3d4-3cdcaf226f76",
   "metadata": {},
   "outputs": [],
   "source": [
    "encode_torque"
   ]
  },
  {
   "cell_type": "code",
   "execution_count": null,
   "id": "4df69560-62b1-4c7d-a6c8-d8dfccf16e60",
   "metadata": {},
   "outputs": [],
   "source": [
    "for i in scores:\n",
    "    print(type(i))"
   ]
  },
  {
   "cell_type": "code",
   "execution_count": null,
   "id": "8c171daa-7ac6-4ad6-9ba5-2ae54f78b3bc",
   "metadata": {},
   "outputs": [],
   "source": [
    "weight = [i/sum(scores) for i in scores]\n",
    "weight"
   ]
  },
  {
   "cell_type": "code",
   "execution_count": null,
   "id": "92586b95-ae90-4f8f-be1f-0168417af197",
   "metadata": {},
   "outputs": [],
   "source": []
  },
  {
   "cell_type": "code",
   "execution_count": null,
   "id": "5deeed66-0e49-4591-81a0-87a6d05821fd",
   "metadata": {},
   "outputs": [],
   "source": [
    "a1"
   ]
  },
  {
   "cell_type": "code",
   "execution_count": null,
   "id": "90b87715-b312-404d-b128-2bdf5cfd519c",
   "metadata": {},
   "outputs": [],
   "source": [
    "a2 = mutation(a1)"
   ]
  },
  {
   "cell_type": "code",
   "execution_count": null,
   "id": "d02b1e05-b890-4b67-8d64-f9f43098e5b0",
   "metadata": {},
   "outputs": [],
   "source": [
    "a2"
   ]
  },
  {
   "cell_type": "code",
   "execution_count": null,
   "id": "1cc96968-b3cb-4085-aef2-e281b5f1fed4",
   "metadata": {},
   "outputs": [],
   "source": []
  },
  {
   "cell_type": "code",
   "execution_count": null,
   "id": "a198ef2e-c058-44c8-b017-c3c9b7632fdf",
   "metadata": {},
   "outputs": [],
   "source": [
    "a = generate_genome(10)\n",
    "b = generate_genome(10)"
   ]
  },
  {
   "cell_type": "code",
   "execution_count": null,
   "id": "0839aaf4-aaf1-4dc6-b4e5-96dfc568aac7",
   "metadata": {},
   "outputs": [],
   "source": [
    "a1, b1 = single_point_cross_over(a, b)"
   ]
  },
  {
   "cell_type": "code",
   "execution_count": null,
   "id": "056e942c-4e74-4a9a-992a-8b6524479811",
   "metadata": {},
   "outputs": [],
   "source": [
    "print(a)\n",
    "print(b)\n",
    "print(a1)\n",
    "print(b1)"
   ]
  },
  {
   "cell_type": "code",
   "execution_count": null,
   "id": "01f69878-2457-4453-867c-c9801681ba70",
   "metadata": {},
   "outputs": [],
   "source": []
  },
  {
   "cell_type": "code",
   "execution_count": null,
   "id": "6de2b2e8-6c1d-4fbd-8219-494aca400e34",
   "metadata": {},
   "outputs": [],
   "source": [
    "fitness(test_genome, encode_torque, 'a')"
   ]
  },
  {
   "cell_type": "code",
   "execution_count": null,
   "id": "df91b8d4-9cf8-4fc7-9626-014b3262a758",
   "metadata": {},
   "outputs": [],
   "source": [
    "population_test = generate_population(10, 10)"
   ]
  },
  {
   "cell_type": "code",
   "execution_count": null,
   "id": "6bee72f5-18a0-4bf0-b377-48dbf7b06668",
   "metadata": {},
   "outputs": [],
   "source": [
    "p = selection_pair(population_test, fitness)"
   ]
  },
  {
   "cell_type": "code",
   "execution_count": null,
   "id": "2ce5b269-bd70-40f7-8fa4-88d19c08f1d2",
   "metadata": {},
   "outputs": [],
   "source": [
    "p"
   ]
  },
  {
   "cell_type": "code",
   "execution_count": null,
   "id": "096b0841-6c26-4702-9c72-fba06fb537da",
   "metadata": {},
   "outputs": [],
   "source": []
  },
  {
   "cell_type": "code",
   "execution_count": null,
   "id": "1c5c8318-747f-4246-a7bf-f74ce987a6bd",
   "metadata": {},
   "outputs": [],
   "source": [
    "a = generate_genome(10)\n",
    "a"
   ]
  },
  {
   "cell_type": "code",
   "execution_count": null,
   "id": "d37cd704-b9d1-4685-9318-58f9ab02e1e9",
   "metadata": {},
   "outputs": [],
   "source": [
    "get_expression(a)"
   ]
  },
  {
   "cell_type": "code",
   "execution_count": null,
   "id": "9b1bc0d6-94af-49b6-8f5b-5708b0b5c1ee",
   "metadata": {},
   "outputs": [],
   "source": []
  },
  {
   "cell_type": "code",
   "execution_count": null,
   "id": "8a2fec84-9fe1-4b31-b54e-87f9014fc065",
   "metadata": {},
   "outputs": [],
   "source": []
  },
  {
   "cell_type": "code",
   "execution_count": null,
   "id": "c1ac41d4-c832-4c5e-8da5-2091fb3fb5de",
   "metadata": {},
   "outputs": [],
   "source": []
  },
  {
   "cell_type": "code",
   "execution_count": null,
   "id": "301091fd-5d37-443f-b60e-3eb018c85b5f",
   "metadata": {},
   "outputs": [],
   "source": [
    "# Test rolling windows\n",
    "\n",
    "test_list = [1,2,3,4,5,7,8,9,10]\n",
    "\n",
    "windows = pd.DataFrame(test_list).rolling(2)\n",
    "\n",
    "for idx, i in enumerate(windows):\n",
    "    print(list(i[0]))"
   ]
  },
  {
   "cell_type": "code",
   "execution_count": null,
   "id": "111e33be-b3d6-4c2d-ad73-119bb8b8d516",
   "metadata": {},
   "outputs": [],
   "source": [
    "a = [1,2,3,4]"
   ]
  },
  {
   "cell_type": "code",
   "execution_count": null,
   "id": "e5471f71-6a89-4f1e-9dd9-769816183fe4",
   "metadata": {},
   "outputs": [],
   "source": [
    "weight = [i/sum(a) for i in a]"
   ]
  },
  {
   "cell_type": "code",
   "execution_count": null,
   "id": "ff5a6bbc-c19a-4ce5-b70b-f6c7daee518e",
   "metadata": {},
   "outputs": [],
   "source": [
    "weight"
   ]
  },
  {
   "cell_type": "code",
   "execution_count": null,
   "id": "c9f697c9-dd2e-4139-8a45-fff3d1f1dae6",
   "metadata": {},
   "outputs": [],
   "source": []
  },
  {
   "cell_type": "code",
   "execution_count": null,
   "id": "1cd62119-a82d-4d94-91f1-29b7e73cf455",
   "metadata": {},
   "outputs": [],
   "source": []
  }
 ],
 "metadata": {
  "kernelspec": {
   "display_name": "Python 3",
   "language": "python",
   "name": "python3"
  },
  "language_info": {
   "codemirror_mode": {
    "name": "ipython",
    "version": 3
   },
   "file_extension": ".py",
   "mimetype": "text/x-python",
   "name": "python",
   "nbconvert_exporter": "python",
   "pygments_lexer": "ipython3",
   "version": "3.8.8"
  }
 },
 "nbformat": 4,
 "nbformat_minor": 5
}
